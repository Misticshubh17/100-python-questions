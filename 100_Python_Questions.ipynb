{
 "cells": [
  {
   "cell_type": "markdown",
   "id": "69c782ac-9b74-4d00-8574-e874fe5aac2a",
   "metadata": {},
   "source": [
    "# 100 Python Questions for Practice\n",
    "\n",
    "Welcome! This notebook contains 100 Python questions for beginners to practice and test their Python fundamentals.\n",
    "\n",
    "### 📌 How to Use:\n",
    "- Try solving each question before checking the answers (see the \"with solutions\" notebook).\n",
    "- These questions cover variables, data types, loops, conditionals, functions, lists, dictionaries, and more.\n",
    "\n",
    "✅ Good for interviews, coding practice, and Python revision.\n",
    "\n",
    "---\n",
    "\n",
    "\n"
   ]
  },
  {
   "cell_type": "markdown",
   "id": "73eb4241-2b6e-472c-9fa8-cc0af9d38ae7",
   "metadata": {},
   "source": [
    "### Basic Syntax and Data Types"
   ]
  },
  {
   "cell_type": "markdown",
   "id": "7935bdea-5dd8-4028-88ea-0fe03ec5d9de",
   "metadata": {},
   "source": [
    "1. Write a program to print \"Hello, World!\""
   ]
  },
  {
   "cell_type": "code",
   "execution_count": null,
   "id": "bce12e64-7d36-4023-a15a-830ea41bfb8b",
   "metadata": {},
   "outputs": [],
   "source": []
  },
  {
   "cell_type": "markdown",
   "id": "cd2a46ec-1975-45f0-a46c-e7bc6b576c12",
   "metadata": {},
   "source": [
    "2. Declare a variable and print its value."
   ]
  },
  {
   "cell_type": "code",
   "execution_count": null,
   "id": "561fc71e-a2fc-400c-aae9-d4e01bb170ba",
   "metadata": {},
   "outputs": [],
   "source": []
  },
  {
   "cell_type": "markdown",
   "id": "ff519e1e-38d7-41b5-97c5-14a00f11522f",
   "metadata": {},
   "source": [
    "3. Write a program to swap two numbers."
   ]
  },
  {
   "cell_type": "code",
   "execution_count": null,
   "id": "a91ecce1-f168-475c-9cec-35a3c8bf6ebf",
   "metadata": {},
   "outputs": [],
   "source": []
  },
  {
   "cell_type": "markdown",
   "id": "b934de7f-ebcf-408f-b8d4-9c3a44c13c07",
   "metadata": {},
   "source": [
    "4. Write a program to check if a number is even or odd."
   ]
  },
  {
   "cell_type": "code",
   "execution_count": null,
   "id": "bd870df4-bc28-4289-aadb-e3b26bdbcbde",
   "metadata": {},
   "outputs": [],
   "source": []
  },
  {
   "cell_type": "markdown",
   "id": "fd38f3aa-7da5-4ff0-bbbc-bd5514145a34",
   "metadata": {},
   "source": [
    "5. Write a program to check if a number is positive, negative, or zero."
   ]
  },
  {
   "cell_type": "code",
   "execution_count": null,
   "id": "11781019-e8fb-4747-85f1-ab3a608c2d04",
   "metadata": {},
   "outputs": [],
   "source": []
  },
  {
   "cell_type": "markdown",
   "id": "f2978d42-bfe7-459c-a85b-63907bf69c2d",
   "metadata": {},
   "source": [
    "6. Convert a temperature from Celsius to Fahrenheit."
   ]
  },
  {
   "cell_type": "code",
   "execution_count": null,
   "id": "90602ddd-0498-4bb1-b213-2808c072b7df",
   "metadata": {},
   "outputs": [],
   "source": []
  },
  {
   "cell_type": "markdown",
   "id": "6bc21daf-ad28-4bbc-a0f3-62471d88e56b",
   "metadata": {},
   "source": [
    "7. Convert a string to uppercase and lowercase."
   ]
  },
  {
   "cell_type": "code",
   "execution_count": null,
   "id": "fd5647f5-b345-42b4-a162-1562e0465d73",
   "metadata": {},
   "outputs": [],
   "source": []
  },
  {
   "cell_type": "markdown",
   "id": "be700d33-4531-4248-8017-495df8dc8f7b",
   "metadata": {},
   "source": [
    "8. Find the length of a given string."
   ]
  },
  {
   "cell_type": "code",
   "execution_count": null,
   "id": "d172ee05-7325-4a08-bbde-0f110393944a",
   "metadata": {},
   "outputs": [],
   "source": []
  },
  {
   "cell_type": "markdown",
   "id": "c73e0ab7-d8d6-423a-8e25-4bd5cb27bed9",
   "metadata": {},
   "source": [
    "9. Extract the first three characters from a string."
   ]
  },
  {
   "cell_type": "code",
   "execution_count": null,
   "id": "4aa1a407-503f-432e-93d3-306b751fefe2",
   "metadata": {},
   "outputs": [],
   "source": []
  },
  {
   "cell_type": "markdown",
   "id": "a6c91238-e7e2-4267-a870-d45441fb1fcc",
   "metadata": {},
   "source": [
    "10. Concatenate two strings without using the + operator."
   ]
  },
  {
   "cell_type": "code",
   "execution_count": null,
   "id": "4ecbd5d6-0714-4714-9b23-cccb9a49c8e3",
   "metadata": {},
   "outputs": [],
   "source": []
  },
  {
   "cell_type": "markdown",
   "id": "961d23cc-ac51-468b-a6a2-0c7d128b8c8e",
   "metadata": {},
   "source": [
    "### Control Flow (Loops and Conditions)"
   ]
  },
  {
   "cell_type": "markdown",
   "id": "b2d8cd56-b6ca-48ca-a4d4-033749a43ce5",
   "metadata": {},
   "source": [
    "11. Print all numbers from 1 to 100."
   ]
  },
  {
   "cell_type": "code",
   "execution_count": null,
   "id": "c6a04ed5-9be5-44da-abca-25e8b96b021b",
   "metadata": {},
   "outputs": [],
   "source": []
  },
  {
   "cell_type": "markdown",
   "id": "51241168-0c21-42a2-9e71-b131be951f5f",
   "metadata": {},
   "source": [
    "12. Print all even numbers from 1 to 50."
   ]
  },
  {
   "cell_type": "code",
   "execution_count": null,
   "id": "896dc08f-527b-4cfd-ad63-c5a2ba4dcbbd",
   "metadata": {},
   "outputs": [],
   "source": []
  },
  {
   "cell_type": "markdown",
   "id": "918d75ec-2dbc-4171-ae73-24cbcbd18924",
   "metadata": {},
   "source": [
    "13. Print all odd numbers from 1 to 50."
   ]
  },
  {
   "cell_type": "code",
   "execution_count": null,
   "id": "3034073a-6679-4c9f-ab0c-3d8968c49d34",
   "metadata": {},
   "outputs": [],
   "source": []
  },
  {
   "cell_type": "markdown",
   "id": "4dbb11c1-5cfa-4777-8d17-aee07338efd9",
   "metadata": {},
   "source": [
    "14. Write a program to check if a number is prime."
   ]
  },
  {
   "cell_type": "code",
   "execution_count": null,
   "id": "b6002215-708b-4bf0-8409-1c6c35b82bec",
   "metadata": {},
   "outputs": [],
   "source": []
  },
  {
   "cell_type": "markdown",
   "id": "f23bc0d1-5618-4e43-8278-2769786c8290",
   "metadata": {},
   "source": [
    "15. Find the sum of numbers from 1 to N."
   ]
  },
  {
   "cell_type": "code",
   "execution_count": null,
   "id": "daf11555-12f8-4498-b504-3ef1ce60a159",
   "metadata": {},
   "outputs": [],
   "source": []
  },
  {
   "cell_type": "markdown",
   "id": "f77ec759-9443-477d-bfc5-95acb39f5c2d",
   "metadata": {},
   "source": [
    "16. Find the factorial of a number using a loop."
   ]
  },
  {
   "cell_type": "code",
   "execution_count": null,
   "id": "7df451d1-afa5-405e-8777-59386cf68c90",
   "metadata": {},
   "outputs": [],
   "source": []
  },
  {
   "cell_type": "markdown",
   "id": "2ba6bb61-2078-4f7b-8920-4a08002c274f",
   "metadata": {},
   "source": [
    "17. Find the factorial of a number using recursion."
   ]
  },
  {
   "cell_type": "code",
   "execution_count": null,
   "id": "7830a023-6e71-484b-957e-145b889b099e",
   "metadata": {},
   "outputs": [],
   "source": []
  },
  {
   "cell_type": "markdown",
   "id": "8ed67278-e4ab-4c25-8ed7-6847084e3ded",
   "metadata": {},
   "source": [
    "18. Check if a given year is a leap year."
   ]
  },
  {
   "cell_type": "code",
   "execution_count": null,
   "id": "5330de3e-fe7f-44a5-b967-91f59651b376",
   "metadata": {},
   "outputs": [],
   "source": []
  },
  {
   "cell_type": "markdown",
   "id": "a5b27a3f-6091-47e3-9dad-17efa9e54004",
   "metadata": {},
   "source": [
    "19. Print the Fibonacci sequence up to N terms."
   ]
  },
  {
   "cell_type": "code",
   "execution_count": null,
   "id": "eaa9a61a-5d86-42eb-8d34-62ff3bae92d1",
   "metadata": {},
   "outputs": [],
   "source": []
  },
  {
   "cell_type": "markdown",
   "id": "7dafbb37-aba1-47c5-9f81-27792e5e7898",
   "metadata": {},
   "source": [
    "20. Count the number of vowels in a string."
   ]
  },
  {
   "cell_type": "code",
   "execution_count": null,
   "id": "9c755521-bab0-4718-89aa-08471876e9cc",
   "metadata": {},
   "outputs": [],
   "source": []
  },
  {
   "cell_type": "markdown",
   "id": "701a021d-783e-4c35-b67f-f52acb67b97a",
   "metadata": {},
   "source": [
    "### Functions"
   ]
  },
  {
   "cell_type": "markdown",
   "id": "b0d62023-9d62-4b7c-8cd4-8ad1123afe8d",
   "metadata": {},
   "source": [
    "21. Write a function to add two numbers."
   ]
  },
  {
   "cell_type": "code",
   "execution_count": null,
   "id": "ee543d3c-60eb-4a79-9c88-d117706bb572",
   "metadata": {},
   "outputs": [],
   "source": []
  },
  {
   "cell_type": "markdown",
   "id": "1e55806b-5f9d-437a-b9b5-12b22fc5d337",
   "metadata": {},
   "source": [
    "22. Write a function to find the maximum of three numbers."
   ]
  },
  {
   "cell_type": "code",
   "execution_count": null,
   "id": "97913970-0499-40f9-8864-616779cd2cbf",
   "metadata": {},
   "outputs": [],
   "source": []
  },
  {
   "cell_type": "markdown",
   "id": "1a729586-d67c-49b6-a0e9-c9832b1ca11e",
   "metadata": {},
   "source": [
    "23. Write a function to reverse a string."
   ]
  },
  {
   "cell_type": "code",
   "execution_count": null,
   "id": "b2e260dd-2694-45f3-9b88-9fe15248eb5f",
   "metadata": {},
   "outputs": [],
   "source": []
  },
  {
   "cell_type": "markdown",
   "id": "57c201fc-eeca-4567-ada5-92391e668f15",
   "metadata": {},
   "source": [
    "24. Write a function to check if a string is a palindrome."
   ]
  },
  {
   "cell_type": "markdown",
   "id": "ea9a8dc4-ca23-4ae6-a81f-c694b7b57e96",
   "metadata": {},
   "source": []
  },
  {
   "cell_type": "markdown",
   "id": "cd940cd4-b1e4-448b-9daf-7025cd600f36",
   "metadata": {},
   "source": [
    "25. Write a function that returns the square of a number."
   ]
  },
  {
   "cell_type": "code",
   "execution_count": null,
   "id": "bfc81105-35dd-4a49-ae7b-e0ffcba632b8",
   "metadata": {},
   "outputs": [],
   "source": []
  },
  {
   "cell_type": "markdown",
   "id": "2e4d5e0b-377d-4d80-82a3-84ffb89abe1c",
   "metadata": {},
   "source": [
    "26. Write a function to count the number of words in a string."
   ]
  },
  {
   "cell_type": "code",
   "execution_count": null,
   "id": "bdf31084-ebff-4d6c-a235-1918d65f9587",
   "metadata": {},
   "outputs": [],
   "source": []
  },
  {
   "cell_type": "markdown",
   "id": "905c7bc5-4124-4ff2-af67-34cf18d62feb",
   "metadata": {},
   "source": [
    "27. Write a function to check if a number is an Armstrong number."
   ]
  },
  {
   "cell_type": "code",
   "execution_count": null,
   "id": "870a7c17-423a-4db9-b5f2-3e2a03c970fa",
   "metadata": {},
   "outputs": [],
   "source": []
  },
  {
   "cell_type": "markdown",
   "id": "721b8fe7-826b-4dcd-84e0-051a01780591",
   "metadata": {},
   "source": [
    "28. Write a function to find the GCD of two numbers."
   ]
  },
  {
   "cell_type": "code",
   "execution_count": null,
   "id": "e510a822-2ee4-4e73-ba1d-86e36ab56d77",
   "metadata": {},
   "outputs": [],
   "source": []
  },
  {
   "cell_type": "markdown",
   "id": "0d60b541-02a2-4ad2-b2ba-bf0f382ed5d8",
   "metadata": {},
   "source": [
    "29. Write a function to find the LCM of two numbers."
   ]
  },
  {
   "cell_type": "code",
   "execution_count": null,
   "id": "72e8e167-da52-4d9f-92a4-219bf6128985",
   "metadata": {},
   "outputs": [],
   "source": []
  },
  {
   "cell_type": "markdown",
   "id": "d8b0c8e6-99c4-4b1c-91a4-aa6d9d9d5ef8",
   "metadata": {},
   "source": [
    "30. Write a function to check if a given number is a perfect number."
   ]
  },
  {
   "cell_type": "code",
   "execution_count": null,
   "id": "6557e7ba-0eb4-4736-b39b-a5ec80cecc36",
   "metadata": {},
   "outputs": [],
   "source": []
  },
  {
   "cell_type": "markdown",
   "id": "83b67be4-1f7b-43d4-a873-adc08b9839a2",
   "metadata": {},
   "source": [
    "### Lists"
   ]
  },
  {
   "cell_type": "markdown",
   "id": "60861a63-e6d5-44e3-bfa4-d216f023baed",
   "metadata": {},
   "source": [
    "31. Create a list of five numbers and print them."
   ]
  },
  {
   "cell_type": "code",
   "execution_count": null,
   "id": "9cea3e7c-a19f-472d-b1f0-c8e36ff4e13f",
   "metadata": {},
   "outputs": [],
   "source": []
  },
  {
   "cell_type": "markdown",
   "id": "c2fae507-257c-4a10-94e2-c5bba2c71862",
   "metadata": {},
   "source": [
    "32. Find the maximum and minimum value in a list."
   ]
  },
  {
   "cell_type": "code",
   "execution_count": null,
   "id": "5e5b7377-79b0-4416-a80a-31331bcf82a0",
   "metadata": {},
   "outputs": [],
   "source": []
  },
  {
   "cell_type": "markdown",
   "id": "b5af72ab-928d-4146-b2f2-4c40b5d2ac3c",
   "metadata": {},
   "source": [
    "33. Find the sum of all elements in a list."
   ]
  },
  {
   "cell_type": "code",
   "execution_count": null,
   "id": "88a4ac04-8300-464d-b950-9da43dcb6ec6",
   "metadata": {},
   "outputs": [],
   "source": []
  },
  {
   "cell_type": "markdown",
   "id": "ed20478a-c301-4533-aee0-da8afe29fed5",
   "metadata": {},
   "source": [
    "34. Reverse a list without using reverse()."
   ]
  },
  {
   "cell_type": "code",
   "execution_count": null,
   "id": "bbafbbec-1666-4bf1-8e22-52c055b5ebeb",
   "metadata": {},
   "outputs": [],
   "source": []
  },
  {
   "cell_type": "markdown",
   "id": "87cf500a-2933-4931-aa75-0067d5a37266",
   "metadata": {},
   "source": [
    "35. Find the second largest number in a list."
   ]
  },
  {
   "cell_type": "code",
   "execution_count": null,
   "id": "4b86db2f-8e3a-4a21-a06e-73b1b66ba4cb",
   "metadata": {},
   "outputs": [],
   "source": []
  },
  {
   "cell_type": "markdown",
   "id": "beec5ca2-f7ce-4968-b5d1-1a05fd8f1a76",
   "metadata": {},
   "source": [
    "36. Remove all duplicates from a list."
   ]
  },
  {
   "cell_type": "code",
   "execution_count": null,
   "id": "4536b492-4658-4ced-906f-a564e9169626",
   "metadata": {},
   "outputs": [],
   "source": []
  },
  {
   "cell_type": "markdown",
   "id": "688d6cbe-81f9-467b-afc0-f7f9ceb99590",
   "metadata": {},
   "source": [
    "37. Sort a list in ascending and descending order."
   ]
  },
  {
   "cell_type": "code",
   "execution_count": null,
   "id": "a15bbb72-de03-4382-9806-49193ad3c03e",
   "metadata": {},
   "outputs": [],
   "source": []
  },
  {
   "cell_type": "markdown",
   "id": "bbbaffe5-4070-42f7-9cea-be2bbfa71a2d",
   "metadata": {},
   "source": [
    "38. Count the occurrences of a given element in a list."
   ]
  },
  {
   "cell_type": "code",
   "execution_count": null,
   "id": "2afab39e-ecf6-4b81-87ab-09a81998b009",
   "metadata": {},
   "outputs": [],
   "source": []
  },
  {
   "cell_type": "markdown",
   "id": "07e61545-3ba2-487a-9064-9441f99d8aec",
   "metadata": {},
   "source": [
    "39. Find the intersection of two lists."
   ]
  },
  {
   "cell_type": "code",
   "execution_count": null,
   "id": "aab58080-bae6-4eb8-afc5-efa6b280cb89",
   "metadata": {},
   "outputs": [],
   "source": []
  },
  {
   "cell_type": "markdown",
   "id": "bbb38bb2-c9e4-4b1e-9d66-d6cf6a9d1808",
   "metadata": {},
   "source": [
    "40. Merge two sorted lists into a single sorted list."
   ]
  },
  {
   "cell_type": "code",
   "execution_count": null,
   "id": "ba7bff2e-a947-4354-9de0-1e3aa20ac90e",
   "metadata": {},
   "outputs": [],
   "source": []
  },
  {
   "cell_type": "markdown",
   "id": "f977e8e9-0533-471a-8108-ec579b3533f0",
   "metadata": {},
   "source": [
    "### Tuples and sets"
   ]
  },
  {
   "cell_type": "markdown",
   "id": "96719496-1b13-4805-bd77-6a5d5f882cce",
   "metadata": {},
   "source": [
    "41. Create a tuple and access its elements."
   ]
  },
  {
   "cell_type": "code",
   "execution_count": null,
   "id": "ed9da748-268e-4eb3-9228-2d1af7e096e1",
   "metadata": {},
   "outputs": [],
   "source": []
  },
  {
   "cell_type": "markdown",
   "id": "4b998e72-4407-4c14-afea-54f788194673",
   "metadata": {},
   "source": [
    "42. Convert a list into a tuple."
   ]
  },
  {
   "cell_type": "code",
   "execution_count": null,
   "id": "2ce88234-117f-49ba-a70a-713a3837df71",
   "metadata": {},
   "outputs": [],
   "source": []
  },
  {
   "cell_type": "markdown",
   "id": "879786a0-cc95-4d52-888d-798fa2512a5e",
   "metadata": {},
   "source": [
    "43. Find the index of an element in a tuple."
   ]
  },
  {
   "cell_type": "code",
   "execution_count": null,
   "id": "9fd2a583-1e5d-4919-b51d-05316b337ca3",
   "metadata": {},
   "outputs": [],
   "source": []
  },
  {
   "cell_type": "markdown",
   "id": "2a287b33-7f2f-4638-8251-f23bb878ea7a",
   "metadata": {},
   "source": [
    "44. Count the occurrences of an element in a tuple."
   ]
  },
  {
   "cell_type": "code",
   "execution_count": null,
   "id": "97fa679d-90e6-4b03-b3b4-65d29a6b6d7c",
   "metadata": {},
   "outputs": [],
   "source": []
  },
  {
   "cell_type": "markdown",
   "id": "7214e217-b1e4-4f92-a48e-b1e921f7d37a",
   "metadata": {},
   "source": [
    "45. Create a set and add elements to it."
   ]
  },
  {
   "cell_type": "code",
   "execution_count": null,
   "id": "91026370-501e-4928-a55e-f993b094e5c7",
   "metadata": {},
   "outputs": [],
   "source": []
  },
  {
   "cell_type": "markdown",
   "id": "1b45bfd8-0725-4d64-8eda-6ed3c7cacd0d",
   "metadata": {},
   "source": [
    "46. Remove an element from a set."
   ]
  },
  {
   "cell_type": "code",
   "execution_count": null,
   "id": "86f2d48c-e305-4789-bd13-f1b72f2f9156",
   "metadata": {},
   "outputs": [],
   "source": []
  },
  {
   "cell_type": "markdown",
   "id": "69d3a2a0-9344-4e5b-b2c4-7cc72d3309af",
   "metadata": {},
   "source": [
    "47. Find the union of two sets."
   ]
  },
  {
   "cell_type": "code",
   "execution_count": null,
   "id": "bd589b00-1ee1-4ad0-94e9-5eeb6487d351",
   "metadata": {},
   "outputs": [],
   "source": []
  },
  {
   "cell_type": "markdown",
   "id": "331abd44-506f-43af-b6fc-6149dcbbb222",
   "metadata": {},
   "source": [
    "48. Find the intersection of two sets."
   ]
  },
  {
   "cell_type": "code",
   "execution_count": null,
   "id": "d4b14309-6dd3-4937-a62f-b877ba6abc50",
   "metadata": {},
   "outputs": [],
   "source": []
  },
  {
   "cell_type": "markdown",
   "id": "bbba8c85-6708-4734-b0f4-dfe3344d5757",
   "metadata": {},
   "source": [
    "49. Find the difference between two sets."
   ]
  },
  {
   "cell_type": "code",
   "execution_count": null,
   "id": "532e2009-972b-46f3-9572-e55470a9c039",
   "metadata": {},
   "outputs": [],
   "source": []
  },
  {
   "cell_type": "markdown",
   "id": "8f0c7397-b87b-431e-b143-96911efb8fed",
   "metadata": {},
   "source": [
    "50. Check if a set is a subset of another set."
   ]
  },
  {
   "cell_type": "code",
   "execution_count": null,
   "id": "7dc4217a-387b-4945-87c9-d5f62dbcb57a",
   "metadata": {},
   "outputs": [],
   "source": []
  },
  {
   "cell_type": "markdown",
   "id": "a754b079-45ce-424e-b397-0c50acfc92f7",
   "metadata": {},
   "source": [
    "### Dictionaries"
   ]
  },
  {
   "cell_type": "markdown",
   "id": "8be6c94c-cfda-4fac-ba4c-a93e2247e6d4",
   "metadata": {},
   "source": [
    "51. Create a dictionary and print its keys and values."
   ]
  },
  {
   "cell_type": "code",
   "execution_count": null,
   "id": "c0af8b63-6c13-47e2-bbcc-492b06a8f6cf",
   "metadata": {},
   "outputs": [],
   "source": []
  },
  {
   "cell_type": "markdown",
   "id": "cd07b9af-71d2-421a-8560-082a43fae228",
   "metadata": {},
   "source": [
    "52. Add an item to a dictionary."
   ]
  },
  {
   "cell_type": "code",
   "execution_count": null,
   "id": "630edc5d-c835-41bb-afd4-72746169a2a9",
   "metadata": {},
   "outputs": [],
   "source": []
  },
  {
   "cell_type": "markdown",
   "id": "c2d9420b-0c71-4f51-9448-957b728e0e2f",
   "metadata": {},
   "source": [
    "53. Remove an item from a dictionary."
   ]
  },
  {
   "cell_type": "code",
   "execution_count": null,
   "id": "55452d5c-e525-49d2-b2c4-0e9ea41f0aea",
   "metadata": {},
   "outputs": [],
   "source": []
  },
  {
   "cell_type": "markdown",
   "id": "ff4643a1-48d3-44e6-8c0d-ef43ef7a8dda",
   "metadata": {},
   "source": [
    "54. Find a value associated with a given key."
   ]
  },
  {
   "cell_type": "code",
   "execution_count": null,
   "id": "cd4a9e00-40c5-403a-90b3-eb6ca28ec7ee",
   "metadata": {},
   "outputs": [],
   "source": []
  },
  {
   "cell_type": "markdown",
   "id": "6d13698b-51f8-4a3f-b24b-d96573085ca4",
   "metadata": {},
   "source": [
    "55. Check if a key exists in a dictionary."
   ]
  },
  {
   "cell_type": "code",
   "execution_count": null,
   "id": "eb85a1f6-3abd-42cb-b4d8-5f9a3436dc20",
   "metadata": {},
   "outputs": [],
   "source": []
  },
  {
   "cell_type": "markdown",
   "id": "a481c437-a287-44d3-a6c6-b3d98a1b113b",
   "metadata": {},
   "source": [
    "56. Merge two dictionaries."
   ]
  },
  {
   "cell_type": "code",
   "execution_count": null,
   "id": "065503b4-07b2-4453-84d2-0b8c40fe6e42",
   "metadata": {},
   "outputs": [],
   "source": []
  },
  {
   "cell_type": "markdown",
   "id": "6f8f70df-b9c7-4bc3-bc8b-3e955574b90b",
   "metadata": {},
   "source": [
    "57. Sort a dictionary by its keys."
   ]
  },
  {
   "cell_type": "code",
   "execution_count": null,
   "id": "d0ea149c-b58d-42b4-9eb5-1b8a8cf6943d",
   "metadata": {},
   "outputs": [],
   "source": []
  },
  {
   "cell_type": "markdown",
   "id": "59ee1e8d-18fb-422c-8f4b-b2f03fe18e4f",
   "metadata": {},
   "source": [
    "58. Sort a dictionary by its values."
   ]
  },
  {
   "cell_type": "code",
   "execution_count": null,
   "id": "d6f4bbc5-d7c5-4887-a9a0-76934efaeb0c",
   "metadata": {},
   "outputs": [],
   "source": []
  },
  {
   "cell_type": "markdown",
   "id": "c75284ec-122f-4b95-be1a-76c1c9f88633",
   "metadata": {},
   "source": [
    "59. Count the occurrences of each character in a string using a dictionary."
   ]
  },
  {
   "cell_type": "code",
   "execution_count": null,
   "id": "4220b66a-d200-4875-a013-0b0347033af4",
   "metadata": {},
   "outputs": [],
   "source": []
  },
  {
   "cell_type": "markdown",
   "id": "57b93c18-34e3-4db6-bbc9-2137acd921dd",
   "metadata": {},
   "source": [
    "60. Convert two lists into a dictionary."
   ]
  },
  {
   "cell_type": "code",
   "execution_count": null,
   "id": "847417b1-7fc3-46d9-ab36-14012244dfe6",
   "metadata": {},
   "outputs": [],
   "source": []
  },
  {
   "cell_type": "markdown",
   "id": "36f1cc59-76a2-4466-b16c-e6599aa8402d",
   "metadata": {},
   "source": [
    "### String Manipulation"
   ]
  },
  {
   "cell_type": "markdown",
   "id": "c27635cb-40ad-4401-975e-e1ab6277442e",
   "metadata": {},
   "source": [
    "61. Reverse a string without using [::-1]."
   ]
  },
  {
   "cell_type": "code",
   "execution_count": null,
   "id": "0491254b-e8c5-475f-ae88-67afee2e5a5f",
   "metadata": {},
   "outputs": [],
   "source": []
  },
  {
   "cell_type": "markdown",
   "id": "80548a68-9603-49c7-9a1f-783be2d70bcb",
   "metadata": {},
   "source": [
    "62. Remove all spaces from a string."
   ]
  },
  {
   "cell_type": "code",
   "execution_count": null,
   "id": "2882e994-cab3-4b25-9556-81c086bb3c91",
   "metadata": {},
   "outputs": [],
   "source": []
  },
  {
   "cell_type": "markdown",
   "id": "fa2ffb74-c761-42ea-8b46-052156f7f525",
   "metadata": {},
   "source": [
    "63. Replace a substring in a string."
   ]
  },
  {
   "cell_type": "code",
   "execution_count": null,
   "id": "ed270a47-c525-4c97-aa2a-9687785530dd",
   "metadata": {},
   "outputs": [],
   "source": []
  },
  {
   "cell_type": "markdown",
   "id": "d9018cdd-88e3-456a-858a-0267e46379f2",
   "metadata": {},
   "source": [
    "64. Find the first non-repeating character in a string."
   ]
  },
  {
   "cell_type": "code",
   "execution_count": null,
   "id": "9185a598-d793-4f46-8c1b-e1467fef9f3f",
   "metadata": {},
   "outputs": [],
   "source": []
  },
  {
   "cell_type": "markdown",
   "id": "e169d235-1252-4141-8a75-d71e37bfe400",
   "metadata": {},
   "source": [
    "65. Count the number of words in a string."
   ]
  },
  {
   "cell_type": "code",
   "execution_count": null,
   "id": "87c80c2f-b9fe-4f94-8127-72a724d95a4d",
   "metadata": {},
   "outputs": [],
   "source": []
  },
  {
   "cell_type": "markdown",
   "id": "ec211a12-6b9f-4475-abcf-9474a5643a5d",
   "metadata": {},
   "source": [
    "66. Check if two strings are anagrams."
   ]
  },
  {
   "cell_type": "code",
   "execution_count": null,
   "id": "3dd6b182-282f-44c0-96a8-3c5497598090",
   "metadata": {},
   "outputs": [],
   "source": []
  },
  {
   "cell_type": "markdown",
   "id": "3f14e0ba-a1f8-4cf7-8d91-543afbbcbe51",
   "metadata": {},
   "source": [
    "67. Find the most frequent character in a string."
   ]
  },
  {
   "cell_type": "code",
   "execution_count": null,
   "id": "5adebd60-cfbd-433e-bd89-f9dfe0dc3df8",
   "metadata": {},
   "outputs": [],
   "source": []
  },
  {
   "cell_type": "markdown",
   "id": "af3a1f3f-7122-4d63-a980-4c4736db9415",
   "metadata": {},
   "source": [
    "68. Remove punctuation from a string."
   ]
  },
  {
   "cell_type": "code",
   "execution_count": null,
   "id": "471a92c1-356a-4694-b013-1df3bed41d94",
   "metadata": {},
   "outputs": [],
   "source": []
  },
  {
   "cell_type": "markdown",
   "id": "278f7b7d-96b9-4921-b55c-866c665ff6ea",
   "metadata": {},
   "source": [
    "69. Convert a string into a list of words."
   ]
  },
  {
   "cell_type": "code",
   "execution_count": null,
   "id": "3110d181-4bbb-47a7-900c-c73a3c3ef5c3",
   "metadata": {},
   "outputs": [],
   "source": []
  },
  {
   "cell_type": "markdown",
   "id": "6509574c-d925-4598-832a-5ea40cdec917",
   "metadata": {},
   "source": [
    "70. Find the longest word in a sentence."
   ]
  },
  {
   "cell_type": "code",
   "execution_count": null,
   "id": "653c9f70-9f97-469b-b539-408595dc2b54",
   "metadata": {},
   "outputs": [],
   "source": []
  },
  {
   "cell_type": "markdown",
   "id": "5da7587e-7813-49a2-89b4-9e531a6a6cc7",
   "metadata": {},
   "source": [
    "### File Handling"
   ]
  },
  {
   "cell_type": "markdown",
   "id": "3dfefab3-ee2d-430d-b185-ba47a73a36b2",
   "metadata": {},
   "source": [
    "71. Write a program to read a file and print its contents."
   ]
  },
  {
   "cell_type": "code",
   "execution_count": null,
   "id": "6edf36b5-a572-4e39-9d0b-3ec732850e97",
   "metadata": {},
   "outputs": [],
   "source": []
  },
  {
   "cell_type": "markdown",
   "id": "2bb7114a-0b44-4c6e-ad36-d69f0ffa6086",
   "metadata": {},
   "source": [
    "72. Write a program to write data to a file."
   ]
  },
  {
   "cell_type": "code",
   "execution_count": null,
   "id": "e9ab612f-1a04-4133-9716-eb8101f90c59",
   "metadata": {},
   "outputs": [],
   "source": []
  },
  {
   "cell_type": "markdown",
   "id": "826a1897-7174-4dd6-b8f7-70e2ce18df30",
   "metadata": {},
   "source": [
    "73. Append data to an existing file."
   ]
  },
  {
   "cell_type": "code",
   "execution_count": null,
   "id": "c18b026b-09a3-4c5c-b7d0-f0491a9dfc8a",
   "metadata": {},
   "outputs": [],
   "source": []
  },
  {
   "cell_type": "markdown",
   "id": "773c21f0-81f3-45f3-b028-948bc65d1504",
   "metadata": {},
   "source": [
    "74. Count the number of lines in a file."
   ]
  },
  {
   "cell_type": "code",
   "execution_count": null,
   "id": "ba83c5a2-7e17-4289-8f9f-703a097f7c0d",
   "metadata": {},
   "outputs": [],
   "source": []
  },
  {
   "cell_type": "markdown",
   "id": "ea33012f-e0d0-408a-aec1-a6954c2c5a3a",
   "metadata": {},
   "source": [
    "75. Count the number of words in a file."
   ]
  },
  {
   "cell_type": "code",
   "execution_count": null,
   "id": "a335d38f-af88-4e80-8ab0-1f9291ef452b",
   "metadata": {},
   "outputs": [],
   "source": []
  },
  {
   "cell_type": "markdown",
   "id": "19fd2cd8-bb06-4377-8d35-bccf5b5f7c20",
   "metadata": {},
   "source": [
    "76. Count the number of characters in a file."
   ]
  },
  {
   "cell_type": "code",
   "execution_count": null,
   "id": "fafbde8c-898e-4352-9b12-3bf6fc5c9455",
   "metadata": {},
   "outputs": [],
   "source": []
  },
  {
   "cell_type": "markdown",
   "id": "4034be9c-76b1-4af9-b461-9d9b2d261408",
   "metadata": {},
   "source": [
    "77. Find and replace a word in a file."
   ]
  },
  {
   "cell_type": "code",
   "execution_count": null,
   "id": "5af647f2-dae9-4892-9b85-43aac9927674",
   "metadata": {},
   "outputs": [],
   "source": []
  },
  {
   "cell_type": "markdown",
   "id": "dc59ffa1-0991-476f-80f8-1116774b6967",
   "metadata": {},
   "source": [
    "78. Copy the contents of one file to another."
   ]
  },
  {
   "cell_type": "code",
   "execution_count": null,
   "id": "62bfea43-e6ac-43e9-bd5f-67bbd0f358c5",
   "metadata": {},
   "outputs": [],
   "source": []
  },
  {
   "cell_type": "markdown",
   "id": "64ed3d16-2226-4de9-bb1d-7c56a10a6d3d",
   "metadata": {},
   "source": [
    "79. Check if a file exists in a directory."
   ]
  },
  {
   "cell_type": "code",
   "execution_count": null,
   "id": "ae39e4ea-de21-4997-a88f-f5f2d247a2d9",
   "metadata": {},
   "outputs": [],
   "source": []
  },
  {
   "cell_type": "markdown",
   "id": "55d9a58a-4f3f-438f-bc22-9543d0f3dfa4",
   "metadata": {},
   "source": [
    "80. Remove a file using Python."
   ]
  },
  {
   "cell_type": "code",
   "execution_count": null,
   "id": "a4ffb8a4-25d6-495f-bcd5-ecab950d38cb",
   "metadata": {},
   "outputs": [],
   "source": []
  },
  {
   "cell_type": "markdown",
   "id": "c2de945e-809d-4a08-87d9-63942f8f69fa",
   "metadata": {},
   "source": [
    "### Exception Handling"
   ]
  },
  {
   "cell_type": "markdown",
   "id": "11cf5a9b-dab4-4b66-8d6c-0c78df74d72b",
   "metadata": {},
   "source": [
    "81. Write a program that handles division by zero."
   ]
  },
  {
   "cell_type": "code",
   "execution_count": null,
   "id": "05b665b5-d9a7-47b0-8c4f-75db93ef6942",
   "metadata": {},
   "outputs": [],
   "source": []
  },
  {
   "cell_type": "markdown",
   "id": "3394b389-fe80-49de-9e49-c69dffe7bdb7",
   "metadata": {},
   "source": [
    "82. Handle an exception when accessing a non-existent list index."
   ]
  },
  {
   "cell_type": "code",
   "execution_count": null,
   "id": "e6039c6c-7ca6-4445-af24-c4d0f8df9b1d",
   "metadata": {},
   "outputs": [],
   "source": []
  },
  {
   "cell_type": "markdown",
   "id": "b8c2afff-d1ca-4c12-aa5e-716e074ad312",
   "metadata": {},
   "source": [
    "83. Handle a KeyError when accessing a dictionary."
   ]
  },
  {
   "cell_type": "code",
   "execution_count": null,
   "id": "2a3eab00-4f3c-4898-ac27-d95e3d76d9a3",
   "metadata": {},
   "outputs": [],
   "source": []
  },
  {
   "cell_type": "markdown",
   "id": "5ad480f6-a096-4f80-8487-6cf1baea95ac",
   "metadata": {},
   "source": [
    "84. Handle a ValueError when converting a string to an integer."
   ]
  },
  {
   "cell_type": "code",
   "execution_count": null,
   "id": "496f74da-b98b-4212-a335-9e52d6fc6877",
   "metadata": {},
   "outputs": [],
   "source": []
  },
  {
   "cell_type": "markdown",
   "id": "b8362a5f-cc34-41d3-81a2-434b506dea31",
   "metadata": {},
   "source": [
    "85. Handle multiple exceptions in a single try block."
   ]
  },
  {
   "cell_type": "code",
   "execution_count": null,
   "id": "e476e5d9-b10b-458e-a8d5-3606fd72594e",
   "metadata": {},
   "outputs": [],
   "source": []
  },
  {
   "cell_type": "markdown",
   "id": "91692697-4b99-4780-ac55-8458238b32b1",
   "metadata": {},
   "source": [
    "86. Write a program that raises an exception when an invalid input is given."
   ]
  },
  {
   "cell_type": "code",
   "execution_count": null,
   "id": "7e6f8583-5208-4c1b-9288-301b35c109e4",
   "metadata": {},
   "outputs": [],
   "source": []
  },
  {
   "cell_type": "markdown",
   "id": "5f9955f3-b01a-48cf-9256-cfae27503be8",
   "metadata": {},
   "source": [
    "87. Write a program that uses finally for cleanup operations."
   ]
  },
  {
   "cell_type": "code",
   "execution_count": null,
   "id": "b2a7d808-6b44-41fc-8b73-4788ad20c8e6",
   "metadata": {},
   "outputs": [],
   "source": []
  },
  {
   "cell_type": "markdown",
   "id": "b11c8588-78a5-4a5d-b5a1-20e95b416961",
   "metadata": {},
   "source": [
    "88. Handle a file not found error."
   ]
  },
  {
   "cell_type": "code",
   "execution_count": null,
   "id": "33971f61-ebb7-40cb-90a5-8572b70a5890",
   "metadata": {},
   "outputs": [],
   "source": []
  },
  {
   "cell_type": "markdown",
   "id": "b45472b0-bfac-4dda-976c-58656376b11c",
   "metadata": {},
   "source": [
    "89. Handle a TypeError when performing an invalid operation."
   ]
  },
  {
   "cell_type": "code",
   "execution_count": null,
   "id": "d3036d2f-cce2-4b43-9229-3a69c17f4509",
   "metadata": {},
   "outputs": [],
   "source": []
  },
  {
   "cell_type": "markdown",
   "id": "b87a872e-cb48-447d-83c8-4032f852227d",
   "metadata": {},
   "source": [
    "90. Write a custom exception and raise it."
   ]
  },
  {
   "cell_type": "code",
   "execution_count": null,
   "id": "4f1841c8-9a40-46d3-8766-cccf0f976df8",
   "metadata": {},
   "outputs": [],
   "source": []
  },
  {
   "cell_type": "markdown",
   "id": "03ab0bc7-5d20-43ee-88e5-dca7bd4bcb7d",
   "metadata": {},
   "source": [
    "### OOP(Oject-Oriented Programming)"
   ]
  },
  {
   "cell_type": "markdown",
   "id": "12e52d3a-34f8-4283-99c5-a1f5bcafe097",
   "metadata": {},
   "source": [
    "91. Create a class with an __init__ method and instantiate an object."
   ]
  },
  {
   "cell_type": "code",
   "execution_count": null,
   "id": "ab8df4ca-1196-4960-8400-5ce7cc38a44d",
   "metadata": {},
   "outputs": [],
   "source": []
  },
  {
   "cell_type": "markdown",
   "id": "443f3b46-4cba-4ea6-a18b-4b7ef23e58b4",
   "metadata": {},
   "source": [
    "92. Add a method to a class and call it."
   ]
  },
  {
   "cell_type": "code",
   "execution_count": null,
   "id": "61ba84c2-7163-40bb-b12f-6e518c6e3a17",
   "metadata": {},
   "outputs": [],
   "source": []
  },
  {
   "cell_type": "markdown",
   "id": "41a75b33-ddeb-437a-9bd8-75cc44ff2f78",
   "metadata": {},
   "source": [
    "93. Create a class with private variables."
   ]
  },
  {
   "cell_type": "code",
   "execution_count": null,
   "id": "ba98966d-3948-4f13-8a0a-1bd7f5d4aa30",
   "metadata": {},
   "outputs": [],
   "source": []
  },
  {
   "cell_type": "markdown",
   "id": "a1d17949-1e2a-4ab4-bdcd-73d102d58a89",
   "metadata": {},
   "source": [
    "94. Implement a class with inheritance."
   ]
  },
  {
   "cell_type": "code",
   "execution_count": null,
   "id": "63d9f7a6-fae2-42ef-976f-9085850c64d8",
   "metadata": {},
   "outputs": [],
   "source": []
  },
  {
   "cell_type": "markdown",
   "id": "ea6b65f4-3d66-4d28-bb12-e309b8357122",
   "metadata": {},
   "source": [
    "95. Override a method in a subclass."
   ]
  },
  {
   "cell_type": "markdown",
   "id": "1573ef24-be28-4515-afe6-676589bf30b0",
   "metadata": {},
   "source": []
  },
  {
   "cell_type": "markdown",
   "id": "92c249be-1675-4457-b9c1-1011057fb05a",
   "metadata": {},
   "source": [
    "96. Use super() to call the parent class method."
   ]
  },
  {
   "cell_type": "markdown",
   "id": "b35ddabf-90e6-4f30-9b3b-4141f9a0d499",
   "metadata": {},
   "source": []
  },
  {
   "cell_type": "markdown",
   "id": "274e61dc-e596-47ef-b881-31613191f88c",
   "metadata": {},
   "source": [
    "97. Implement a class with multiple inheritance."
   ]
  },
  {
   "cell_type": "markdown",
   "id": "f40a483a-f48d-4079-bc8f-ced33ab23cdd",
   "metadata": {},
   "source": []
  },
  {
   "cell_type": "markdown",
   "id": "9181f688-b925-4478-b1da-93c5f0cb87e8",
   "metadata": {},
   "source": [
    "98. Create a class with a static method."
   ]
  },
  {
   "cell_type": "code",
   "execution_count": null,
   "id": "b4c3d332-5e7d-4025-bece-07859c60ec15",
   "metadata": {},
   "outputs": [],
   "source": []
  },
  {
   "cell_type": "markdown",
   "id": "271892c9-7a27-4407-bc11-5357bdb3cf2f",
   "metadata": {},
   "source": [
    "99. Implement operator overloading in a class."
   ]
  },
  {
   "cell_type": "code",
   "execution_count": null,
   "id": "e776723f-9db4-43fc-8fc0-821c20556971",
   "metadata": {},
   "outputs": [],
   "source": []
  },
  {
   "cell_type": "markdown",
   "id": "b11f0434-2d56-4e14-85fd-e8683c86a165",
   "metadata": {},
   "source": [
    "100. Create a class with a class method and demonstrate its usage."
   ]
  },
  {
   "cell_type": "code",
   "execution_count": null,
   "id": "6161d2fd-a463-4a50-bac0-5c99868ecbb9",
   "metadata": {},
   "outputs": [],
   "source": []
  }
 ],
 "metadata": {
  "kernelspec": {
   "display_name": "Python [conda env:base] *",
   "language": "python",
   "name": "conda-base-py"
  },
  "language_info": {
   "codemirror_mode": {
    "name": "ipython",
    "version": 3
   },
   "file_extension": ".py",
   "mimetype": "text/x-python",
   "name": "python",
   "nbconvert_exporter": "python",
   "pygments_lexer": "ipython3",
   "version": "3.12.7"
  }
 },
 "nbformat": 4,
 "nbformat_minor": 5
}
