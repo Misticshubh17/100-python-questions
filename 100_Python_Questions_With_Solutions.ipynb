{
 "cells": [
  {
   "cell_type": "markdown",
   "id": "69c782ac-9b74-4d00-8574-e874fe5aac2a",
   "metadata": {},
   "source": [
    "# 100 Python Questions with Solutions\n",
    "\n",
    "Here are 100 Python questions with solutions, categorized by concept, to help you improve your coding skills.\n",
    "\n",
    "### 📌 Topics Covered:\n",
    "- Variables and Data Types  \n",
    "- Loops and Conditional Statements  \n",
    "- Functions  \n",
    "- Lists, Tuples, Dictionaries, Sets  \n",
    "- String Manipulation  \n",
    "- Basic File Handling  \n",
    "- Comprehensions  \n",
    "- Error Handling  \n",
    "- And more...\n",
    "\n",
    "### ✅ Perfect For:\n",
    "- Self-study  \n",
    "- Interview preparation  \n",
    "- Python revision  \n",
    "\n",
    "---\n",
    "\n",
    "**GitHub:** [github.com/Misticshubh17](https://github.com/Misticshubh17)\n"
   ]
  },
  {
   "cell_type": "markdown",
   "id": "73eb4241-2b6e-472c-9fa8-cc0af9d38ae7",
   "metadata": {},
   "source": [
    "### Basic Syntax and Data Types"
   ]
  },
  {
   "cell_type": "markdown",
   "id": "7935bdea-5dd8-4028-88ea-0fe03ec5d9de",
   "metadata": {},
   "source": [
    "1. Write a program to print \"Hello, World!\""
   ]
  },
  {
   "cell_type": "code",
   "execution_count": 1,
   "id": "bce12e64-7d36-4023-a15a-830ea41bfb8b",
   "metadata": {},
   "outputs": [
    {
     "name": "stdout",
     "output_type": "stream",
     "text": [
      "Hello, World!\n"
     ]
    }
   ],
   "source": [
    "print(\"Hello, World!\")"
   ]
  },
  {
   "cell_type": "markdown",
   "id": "cd2a46ec-1975-45f0-a46c-e7bc6b576c12",
   "metadata": {},
   "source": [
    "2. Declare a variable and print its value."
   ]
  },
  {
   "cell_type": "code",
   "execution_count": 3,
   "id": "561fc71e-a2fc-400c-aae9-d4e01bb170ba",
   "metadata": {},
   "outputs": [
    {
     "name": "stdout",
     "output_type": "stream",
     "text": [
      "67\n"
     ]
    }
   ],
   "source": [
    "a = 67\n",
    "print(a)"
   ]
  },
  {
   "cell_type": "markdown",
   "id": "ff519e1e-38d7-41b5-97c5-14a00f11522f",
   "metadata": {},
   "source": [
    "3. Write a program to swap two numbers."
   ]
  },
  {
   "cell_type": "code",
   "execution_count": 5,
   "id": "a91ecce1-f168-475c-9cec-35a3c8bf6ebf",
   "metadata": {},
   "outputs": [
    {
     "name": "stdout",
     "output_type": "stream",
     "text": [
      "Before:  4 7\n",
      "After Swap:  7 4\n"
     ]
    }
   ],
   "source": [
    "a = 4\n",
    "b = 7\n",
    "print(\"Before: \", a, b)\n",
    "\n",
    "a,b = b,a\n",
    "print(\"After Swap: \", a, b)"
   ]
  },
  {
   "cell_type": "markdown",
   "id": "b934de7f-ebcf-408f-b8d4-9c3a44c13c07",
   "metadata": {},
   "source": [
    "4. Write a program to check if a number is even or odd."
   ]
  },
  {
   "cell_type": "code",
   "execution_count": 7,
   "id": "bd870df4-bc28-4289-aadb-e3b26bdbcbde",
   "metadata": {},
   "outputs": [
    {
     "name": "stdin",
     "output_type": "stream",
     "text": [
      "Enter a number.  33\n"
     ]
    },
    {
     "name": "stdout",
     "output_type": "stream",
     "text": [
      "Odd\n"
     ]
    }
   ],
   "source": [
    "n = int(input(\"Enter a number. \")) # Taking a number as input and type casting it into an int.\n",
    "if n%2 == 0:\n",
    "    print('Even')\n",
    "else:\n",
    "    print('Odd')"
   ]
  },
  {
   "cell_type": "markdown",
   "id": "fd38f3aa-7da5-4ff0-bbbc-bd5514145a34",
   "metadata": {},
   "source": [
    "5. Write a program to check if a number is positive, negative, or zero."
   ]
  },
  {
   "cell_type": "code",
   "execution_count": 9,
   "id": "11781019-e8fb-4747-85f1-ab3a608c2d04",
   "metadata": {},
   "outputs": [
    {
     "name": "stdin",
     "output_type": "stream",
     "text": [
      "Enter a number.  0\n"
     ]
    },
    {
     "name": "stdout",
     "output_type": "stream",
     "text": [
      "Zero\n"
     ]
    }
   ],
   "source": [
    "n = int(input(\"Enter a number. \"))\n",
    "if n > 0:\n",
    "    print('Positive')\n",
    "elif n < 0:\n",
    "    print('Negative')\n",
    "else:\n",
    "    print('Zero')"
   ]
  },
  {
   "cell_type": "markdown",
   "id": "f2978d42-bfe7-459c-a85b-63907bf69c2d",
   "metadata": {},
   "source": [
    "6. Convert a temperature from Celsius to Fahrenheit."
   ]
  },
  {
   "cell_type": "code",
   "execution_count": 11,
   "id": "90602ddd-0498-4bb1-b213-2808c072b7df",
   "metadata": {},
   "outputs": [
    {
     "name": "stdin",
     "output_type": "stream",
     "text": [
      "Temperature in celsius:-  25\n"
     ]
    },
    {
     "name": "stdout",
     "output_type": "stream",
     "text": [
      "Temperature in fahrenheit :- 77.0\n"
     ]
    }
   ],
   "source": [
    "c = int(input('Temperature in celsius:- '))\n",
    "f = (c * 9/5) + 32\n",
    "print('Temperature in fahrenheit :-', f)"
   ]
  },
  {
   "cell_type": "markdown",
   "id": "6bc21daf-ad28-4bbc-a0f3-62471d88e56b",
   "metadata": {},
   "source": [
    "7. Convert a string to uppercase and lowercase."
   ]
  },
  {
   "cell_type": "code",
   "execution_count": 13,
   "id": "fd5647f5-b345-42b4-a162-1562e0465d73",
   "metadata": {},
   "outputs": [
    {
     "name": "stdout",
     "output_type": "stream",
     "text": [
      "Uppercase -  PYTHON \n",
      "Lowercase -  python\n"
     ]
    }
   ],
   "source": [
    "s = \"Python\"\n",
    "lower = s.lower()\n",
    "upper = s.upper()\n",
    "print(\"Uppercase - \", upper, \"\\nLowercase - \", lower)"
   ]
  },
  {
   "cell_type": "markdown",
   "id": "be700d33-4531-4248-8017-495df8dc8f7b",
   "metadata": {},
   "source": [
    "8. Find the length of a given string."
   ]
  },
  {
   "cell_type": "code",
   "execution_count": 15,
   "id": "d172ee05-7325-4a08-bbde-0f110393944a",
   "metadata": {},
   "outputs": [
    {
     "name": "stdout",
     "output_type": "stream",
     "text": [
      "6\n"
     ]
    }
   ],
   "source": [
    "string = \"Python\"\n",
    "length = len(string)\n",
    "print(length)"
   ]
  },
  {
   "cell_type": "markdown",
   "id": "c73e0ab7-d8d6-423a-8e25-4bd5cb27bed9",
   "metadata": {},
   "source": [
    "9. Extract the first three characters from a string."
   ]
  },
  {
   "cell_type": "code",
   "execution_count": 17,
   "id": "4aa1a407-503f-432e-93d3-306b751fefe2",
   "metadata": {},
   "outputs": [
    {
     "name": "stdout",
     "output_type": "stream",
     "text": [
      "PYT\n"
     ]
    }
   ],
   "source": [
    "string = \"PYTHON\"\n",
    "char = string[:3]\n",
    "print(char)"
   ]
  },
  {
   "cell_type": "markdown",
   "id": "a6c91238-e7e2-4267-a870-d45441fb1fcc",
   "metadata": {},
   "source": [
    "10. Concatenate two strings without using the + operator."
   ]
  },
  {
   "cell_type": "code",
   "execution_count": 19,
   "id": "4ecbd5d6-0714-4714-9b23-cccb9a49c8e3",
   "metadata": {},
   "outputs": [
    {
     "name": "stdout",
     "output_type": "stream",
     "text": [
      "JupyterNotebook\n"
     ]
    }
   ],
   "source": [
    "s1 = \"Jupyter\"\n",
    "s2 = \"Notebook\"\n",
    "conc = \"\".join([s1,s2])\n",
    "print(conc)"
   ]
  },
  {
   "cell_type": "markdown",
   "id": "961d23cc-ac51-468b-a6a2-0c7d128b8c8e",
   "metadata": {},
   "source": [
    "### Control Flow (Loops and Conditions)"
   ]
  },
  {
   "cell_type": "markdown",
   "id": "b2d8cd56-b6ca-48ca-a4d4-033749a43ce5",
   "metadata": {},
   "source": [
    "11. Print all numbers from 1 to 100."
   ]
  },
  {
   "cell_type": "code",
   "execution_count": 21,
   "id": "c6a04ed5-9be5-44da-abca-25e8b96b021b",
   "metadata": {},
   "outputs": [
    {
     "name": "stdout",
     "output_type": "stream",
     "text": [
      "1\n",
      "2\n",
      "3\n",
      "4\n",
      "5\n",
      "6\n",
      "7\n",
      "8\n",
      "9\n",
      "10\n",
      "11\n",
      "12\n",
      "13\n",
      "14\n",
      "15\n",
      "16\n",
      "17\n",
      "18\n",
      "19\n",
      "20\n",
      "21\n",
      "22\n",
      "23\n",
      "24\n",
      "25\n",
      "26\n",
      "27\n",
      "28\n",
      "29\n",
      "30\n",
      "31\n",
      "32\n",
      "33\n",
      "34\n",
      "35\n",
      "36\n",
      "37\n",
      "38\n",
      "39\n",
      "40\n",
      "41\n",
      "42\n",
      "43\n",
      "44\n",
      "45\n",
      "46\n",
      "47\n",
      "48\n",
      "49\n",
      "50\n",
      "51\n",
      "52\n",
      "53\n",
      "54\n",
      "55\n",
      "56\n",
      "57\n",
      "58\n",
      "59\n",
      "60\n",
      "61\n",
      "62\n",
      "63\n",
      "64\n",
      "65\n",
      "66\n",
      "67\n",
      "68\n",
      "69\n",
      "70\n",
      "71\n",
      "72\n",
      "73\n",
      "74\n",
      "75\n",
      "76\n",
      "77\n",
      "78\n",
      "79\n",
      "80\n",
      "81\n",
      "82\n",
      "83\n",
      "84\n",
      "85\n",
      "86\n",
      "87\n",
      "88\n",
      "89\n",
      "90\n",
      "91\n",
      "92\n",
      "93\n",
      "94\n",
      "95\n",
      "96\n",
      "97\n",
      "98\n",
      "99\n",
      "100\n"
     ]
    }
   ],
   "source": [
    "for i in range(1,101):\n",
    "    print(i)"
   ]
  },
  {
   "cell_type": "markdown",
   "id": "51241168-0c21-42a2-9e71-b131be951f5f",
   "metadata": {},
   "source": [
    "12. Print all even numbers from 1 to 50."
   ]
  },
  {
   "cell_type": "code",
   "execution_count": 23,
   "id": "896dc08f-527b-4cfd-ad63-c5a2ba4dcbbd",
   "metadata": {},
   "outputs": [
    {
     "name": "stdout",
     "output_type": "stream",
     "text": [
      "2\n",
      "4\n",
      "6\n",
      "8\n",
      "10\n",
      "12\n",
      "14\n",
      "16\n",
      "18\n",
      "20\n",
      "22\n",
      "24\n",
      "26\n",
      "28\n",
      "30\n",
      "32\n",
      "34\n",
      "36\n",
      "38\n",
      "40\n",
      "42\n",
      "44\n",
      "46\n",
      "48\n",
      "50\n"
     ]
    }
   ],
   "source": [
    "for i in range(2,51,2):\n",
    "    print(i)"
   ]
  },
  {
   "cell_type": "markdown",
   "id": "918d75ec-2dbc-4171-ae73-24cbcbd18924",
   "metadata": {},
   "source": [
    "13. Print all odd numbers from 1 to 50."
   ]
  },
  {
   "cell_type": "code",
   "execution_count": 25,
   "id": "3034073a-6679-4c9f-ab0c-3d8968c49d34",
   "metadata": {},
   "outputs": [
    {
     "name": "stdout",
     "output_type": "stream",
     "text": [
      "1\n",
      "3\n",
      "5\n",
      "7\n",
      "9\n",
      "11\n",
      "13\n",
      "15\n",
      "17\n",
      "19\n",
      "21\n",
      "23\n",
      "25\n",
      "27\n",
      "29\n",
      "31\n",
      "33\n",
      "35\n",
      "37\n",
      "39\n",
      "41\n",
      "43\n",
      "45\n",
      "47\n",
      "49\n"
     ]
    }
   ],
   "source": [
    "for i in range(1,51,2):\n",
    "    print(i)"
   ]
  },
  {
   "cell_type": "markdown",
   "id": "4dbb11c1-5cfa-4777-8d17-aee07338efd9",
   "metadata": {},
   "source": [
    "14. Write a program to check if a number is prime."
   ]
  },
  {
   "cell_type": "code",
   "execution_count": 27,
   "id": "b6002215-708b-4bf0-8409-1c6c35b82bec",
   "metadata": {},
   "outputs": [
    {
     "name": "stdin",
     "output_type": "stream",
     "text": [
      " 6\n"
     ]
    },
    {
     "name": "stdout",
     "output_type": "stream",
     "text": [
      "Not a Prime Number\n"
     ]
    }
   ],
   "source": [
    "n = int(input())\n",
    "\n",
    "if n<1:\n",
    "    print(\"Not a Prime Number\")\n",
    "else:\n",
    "    for i in range(2,int(n**0.5)+1):\n",
    "        if n%i == 0:\n",
    "            print(\"Not a Prime Number\")\n",
    "            break\n",
    "    else:\n",
    "        print(\"Prime Number\")\n"
   ]
  },
  {
   "cell_type": "markdown",
   "id": "f23bc0d1-5618-4e43-8278-2769786c8290",
   "metadata": {},
   "source": [
    "15. Find the sum of numbers from 1 to N."
   ]
  },
  {
   "cell_type": "code",
   "execution_count": 29,
   "id": "daf11555-12f8-4498-b504-3ef1ce60a159",
   "metadata": {},
   "outputs": [
    {
     "name": "stdin",
     "output_type": "stream",
     "text": [
      "n = 5\n"
     ]
    },
    {
     "name": "stdout",
     "output_type": "stream",
     "text": [
      "sum = 15\n"
     ]
    }
   ],
   "source": [
    "n = int(input(\"n =\"))\n",
    "s = 0\n",
    "for i in range(1,n+1):\n",
    "    s += i\n",
    "    \n",
    "print(\"sum =\", s)"
   ]
  },
  {
   "cell_type": "markdown",
   "id": "f77ec759-9443-477d-bfc5-95acb39f5c2d",
   "metadata": {},
   "source": [
    "16. Find the factorial of a number using a loop."
   ]
  },
  {
   "cell_type": "code",
   "execution_count": 31,
   "id": "7df451d1-afa5-405e-8777-59386cf68c90",
   "metadata": {},
   "outputs": [
    {
     "name": "stdin",
     "output_type": "stream",
     "text": [
      " 5\n"
     ]
    },
    {
     "name": "stdout",
     "output_type": "stream",
     "text": [
      "120\n"
     ]
    }
   ],
   "source": [
    "n = int(input())\n",
    "fac = 1\n",
    "for i in range(1,n+1):\n",
    "    fac *= i\n",
    "    \n",
    "print(fac)"
   ]
  },
  {
   "cell_type": "markdown",
   "id": "2ba6bb61-2078-4f7b-8920-4a08002c274f",
   "metadata": {},
   "source": [
    "17. Find the factorial of a number using recursion."
   ]
  },
  {
   "cell_type": "code",
   "execution_count": 33,
   "id": "7830a023-6e71-484b-957e-145b889b099e",
   "metadata": {},
   "outputs": [
    {
     "name": "stdin",
     "output_type": "stream",
     "text": [
      " 5\n"
     ]
    },
    {
     "name": "stdout",
     "output_type": "stream",
     "text": [
      "120\n"
     ]
    }
   ],
   "source": [
    "N = int(input())\n",
    "def fac(n):\n",
    "    if n==1:\n",
    "        return 1\n",
    "    return n * fac(n-1)\n",
    "\n",
    "print(fac(N))"
   ]
  },
  {
   "cell_type": "markdown",
   "id": "8ed67278-e4ab-4c25-8ed7-6847084e3ded",
   "metadata": {},
   "source": [
    "18. Check if a given year is a leap year."
   ]
  },
  {
   "cell_type": "code",
   "execution_count": 35,
   "id": "5330de3e-fe7f-44a5-b967-91f59651b376",
   "metadata": {},
   "outputs": [
    {
     "name": "stdin",
     "output_type": "stream",
     "text": [
      "Enter a year.  2100\n"
     ]
    },
    {
     "name": "stdout",
     "output_type": "stream",
     "text": [
      "Not a Leap Year\n"
     ]
    }
   ],
   "source": [
    "year = int(input(\"Enter a year. \"))\n",
    "\n",
    "if (year%4 == 0 and year%100 != 0) or year%400 == 0:\n",
    "    print(\"Leap Year\")\n",
    "else:\n",
    "    print(\"Not a Leap Year\")"
   ]
  },
  {
   "cell_type": "markdown",
   "id": "a5b27a3f-6091-47e3-9dad-17efa9e54004",
   "metadata": {},
   "source": [
    "19. Print the Fibonacci sequence up to N terms."
   ]
  },
  {
   "cell_type": "code",
   "execution_count": 37,
   "id": "eaa9a61a-5d86-42eb-8d34-62ff3bae92d1",
   "metadata": {},
   "outputs": [
    {
     "name": "stdin",
     "output_type": "stream",
     "text": [
      "Enter number of terms:  17\n"
     ]
    },
    {
     "name": "stdout",
     "output_type": "stream",
     "text": [
      "Fibonacci sequence:\n",
      "0 1 1 2 3 5 8 13 21 34 55 89 144 233 377 610 987 "
     ]
    }
   ],
   "source": [
    "n = int(input(\"Enter number of terms: \"))\n",
    "\n",
    "a, b = 0, 1\n",
    "count = 0\n",
    "\n",
    "if n <= 0:\n",
    "    print(\"Please enter a positive integer\")\n",
    "elif n == 1:\n",
    "    print(\"Fibonacci sequence up to\", n, \"term:\")\n",
    "    print(a)\n",
    "else:\n",
    "    print(\"Fibonacci sequence:\")\n",
    "    while count < n:\n",
    "        print(a, end=' ')\n",
    "        a, b = b, a + b\n",
    "        count += 1\n"
   ]
  },
  {
   "cell_type": "markdown",
   "id": "7dafbb37-aba1-47c5-9f81-27792e5e7898",
   "metadata": {},
   "source": [
    "20. Count the number of vowels in a string."
   ]
  },
  {
   "cell_type": "code",
   "execution_count": 39,
   "id": "9c755521-bab0-4718-89aa-08471876e9cc",
   "metadata": {},
   "outputs": [
    {
     "name": "stdout",
     "output_type": "stream",
     "text": [
      "4\n"
     ]
    }
   ],
   "source": [
    "count = 0\n",
    "string = \"cookies\"\n",
    "for i in string:\n",
    "    if i in ('a', 'e', 'i', 'o', 'u'):\n",
    "        count += 1\n",
    "\n",
    "print(count)"
   ]
  },
  {
   "cell_type": "markdown",
   "id": "701a021d-783e-4c35-b67f-f52acb67b97a",
   "metadata": {},
   "source": [
    "### Functions"
   ]
  },
  {
   "cell_type": "markdown",
   "id": "b0d62023-9d62-4b7c-8cd4-8ad1123afe8d",
   "metadata": {},
   "source": [
    "21. Write a function to add two numbers."
   ]
  },
  {
   "cell_type": "code",
   "execution_count": 41,
   "id": "ee543d3c-60eb-4a79-9c88-d117706bb572",
   "metadata": {},
   "outputs": [
    {
     "name": "stdout",
     "output_type": "stream",
     "text": [
      "15\n"
     ]
    }
   ],
   "source": [
    "def add(a,b):\n",
    "    return a + b\n",
    "\n",
    "print(add(a=7,b=8))"
   ]
  },
  {
   "cell_type": "markdown",
   "id": "1e55806b-5f9d-437a-b9b5-12b22fc5d337",
   "metadata": {},
   "source": [
    "22. Write a function to find the maximum of three numbers."
   ]
  },
  {
   "cell_type": "code",
   "execution_count": 43,
   "id": "97913970-0499-40f9-8864-616779cd2cbf",
   "metadata": {},
   "outputs": [
    {
     "name": "stdout",
     "output_type": "stream",
     "text": [
      "91\n"
     ]
    }
   ],
   "source": [
    "def max_num(a,b,c):\n",
    "    if a>b and a>c:\n",
    "        print(a)\n",
    "    elif b>c:\n",
    "        print(b)\n",
    "    else:\n",
    "        print(c)\n",
    "\n",
    "max_num(91,72,56)"
   ]
  },
  {
   "cell_type": "markdown",
   "id": "1a729586-d67c-49b6-a0e9-c9832b1ca11e",
   "metadata": {},
   "source": [
    "23. Write a function to reverse a string."
   ]
  },
  {
   "cell_type": "code",
   "execution_count": 45,
   "id": "b2e260dd-2694-45f3-9b88-9fe15248eb5f",
   "metadata": {},
   "outputs": [
    {
     "name": "stdout",
     "output_type": "stream",
     "text": [
      "esrever\n"
     ]
    }
   ],
   "source": [
    "string = \"reverse\"\n",
    "\n",
    "def rev(s):\n",
    "    return s[::-1]\n",
    "    \n",
    "print(rev(string))"
   ]
  },
  {
   "cell_type": "markdown",
   "id": "57c201fc-eeca-4567-ada5-92391e668f15",
   "metadata": {},
   "source": [
    "24. Write a function to check if a string is a palindrome."
   ]
  },
  {
   "cell_type": "code",
   "execution_count": 47,
   "id": "c62ac5d4-2881-4513-9ac1-f687147f1a70",
   "metadata": {},
   "outputs": [
    {
     "name": "stdout",
     "output_type": "stream",
     "text": [
      "Palindrome.\n"
     ]
    }
   ],
   "source": [
    "def palindrome(s):\n",
    "    if s == s[::-1]:\n",
    "        print(\"Palindrome.\")\n",
    "    else:\n",
    "        print(\"Not a Palindrome.\")\n",
    "\n",
    "palindrome(\"level\")"
   ]
  },
  {
   "cell_type": "markdown",
   "id": "cd940cd4-b1e4-448b-9daf-7025cd600f36",
   "metadata": {},
   "source": [
    "25. Write a function that returns the square of a number."
   ]
  },
  {
   "cell_type": "code",
   "execution_count": 49,
   "id": "bfc81105-35dd-4a49-ae7b-e0ffcba632b8",
   "metadata": {},
   "outputs": [
    {
     "name": "stdout",
     "output_type": "stream",
     "text": [
      "121\n"
     ]
    }
   ],
   "source": [
    "def square(n):\n",
    "    return n**2\n",
    "\n",
    "print(square(11))"
   ]
  },
  {
   "cell_type": "markdown",
   "id": "2e4d5e0b-377d-4d80-82a3-84ffb89abe1c",
   "metadata": {},
   "source": [
    "26. Write a function to count the number of words in a string."
   ]
  },
  {
   "cell_type": "code",
   "execution_count": 51,
   "id": "bdf31084-ebff-4d6c-a235-1918d65f9587",
   "metadata": {},
   "outputs": [
    {
     "name": "stdin",
     "output_type": "stream",
     "text": [
      " This is a string\n"
     ]
    },
    {
     "name": "stdout",
     "output_type": "stream",
     "text": [
      "Count of word in (This is a string) -> 4\n"
     ]
    }
   ],
   "source": [
    "s = input()\n",
    "def count_words(s):\n",
    "    i=0\n",
    "    for _ in s.split():\n",
    "        i+=1\n",
    "    return i\n",
    "\n",
    "print(f\"Count of word in ({s}) -> {count_words(s)}\")"
   ]
  },
  {
   "cell_type": "markdown",
   "id": "905c7bc5-4124-4ff2-af67-34cf18d62feb",
   "metadata": {},
   "source": [
    "27. Write a function to check if a number is an Armstrong number."
   ]
  },
  {
   "cell_type": "code",
   "execution_count": 53,
   "id": "870a7c17-423a-4db9-b5f2-3e2a03c970fa",
   "metadata": {},
   "outputs": [
    {
     "name": "stdin",
     "output_type": "stream",
     "text": [
      " 153\n"
     ]
    },
    {
     "name": "stdout",
     "output_type": "stream",
     "text": [
      "Yes, 153 is a armstrong number.\n"
     ]
    }
   ],
   "source": [
    "def arm_num():\n",
    "    num = input()\n",
    "    n = len(num)\n",
    "    res = 0\n",
    "    for i in num:\n",
    "        res += int(i)**n\n",
    "\n",
    "    if res == int(num):\n",
    "        return f'Yes, {num} is a armstrong number.'\n",
    "    else:\n",
    "        return f'{num} is not a armstrong number.'\n",
    "\n",
    "print(arm_num())"
   ]
  },
  {
   "cell_type": "markdown",
   "id": "721b8fe7-826b-4dcd-84e0-051a01780591",
   "metadata": {},
   "source": [
    "28. Write a function to find the LCM of two numbers."
   ]
  },
  {
   "cell_type": "code",
   "execution_count": 55,
   "id": "e510a822-2ee4-4e73-ba1d-86e36ab56d77",
   "metadata": {},
   "outputs": [
    {
     "name": "stdin",
     "output_type": "stream",
     "text": [
      "Enter first num:  8\n",
      "Enter second num:  16\n"
     ]
    },
    {
     "name": "stdout",
     "output_type": "stream",
     "text": [
      "LCM of 8 and 16 is 16\n"
     ]
    }
   ],
   "source": [
    "def get_max(a, b):\n",
    "    return a if a > b else b\n",
    "\n",
    "def get_min(a, b):\n",
    "    return a if a < b else b\n",
    "\n",
    "def lcm(a, b):\n",
    "    m = get_max(a, b)\n",
    "    n = get_min(a, b)\n",
    "    for i in range(m, a * b + 1, m):\n",
    "        if i % n == 0:\n",
    "            return i\n",
    "\n",
    "a = int(input(\"Enter first num: \"))\n",
    "b = int(input(\"Enter second num: \"))\n",
    "\n",
    "print(f\"LCM of {a} and {b} is {lcm(a,b)}\")"
   ]
  },
  {
   "cell_type": "markdown",
   "id": "0d60b541-02a2-4ad2-b2ba-bf0f382ed5d8",
   "metadata": {},
   "source": [
    "29. Write a function to find the GCD of two numbers."
   ]
  },
  {
   "cell_type": "code",
   "execution_count": 57,
   "id": "72e8e167-da52-4d9f-92a4-219bf6128985",
   "metadata": {},
   "outputs": [
    {
     "name": "stdout",
     "output_type": "stream",
     "text": [
      "GCD of 24 and 26 is 2\n"
     ]
    }
   ],
   "source": [
    "def gcd(a, b):\n",
    "    gcd_val = abs(a * b) // lcm(a, b)\n",
    "    return f\"GCD of {a} and {b} is {gcd_val}\"\n",
    "\n",
    "print(gcd(24, 26))  "
   ]
  },
  {
   "cell_type": "markdown",
   "id": "d8b0c8e6-99c4-4b1c-91a4-aa6d9d9d5ef8",
   "metadata": {},
   "source": [
    "30. Write a function to check if a given number is a perfect number."
   ]
  },
  {
   "cell_type": "code",
   "execution_count": 59,
   "id": "6557e7ba-0eb4-4736-b39b-a5ec80cecc36",
   "metadata": {},
   "outputs": [
    {
     "name": "stdout",
     "output_type": "stream",
     "text": [
      "Yes\n"
     ]
    }
   ],
   "source": [
    "def perfect_num(n):\n",
    "    if n > 0:\n",
    "        sum = 0\n",
    "        for i in range(1, n):\n",
    "            if n % i == 0:\n",
    "                sum += i\n",
    "        if sum == n:\n",
    "            return \"Yes\"\n",
    "        else:\n",
    "            return \"No\"\n",
    "    else:\n",
    "        return \"Number is negative\"\n",
    "\n",
    "# Example usage\n",
    "print(perfect_num(6))   # Output: Yes\n"
   ]
  },
  {
   "cell_type": "markdown",
   "id": "83b67be4-1f7b-43d4-a873-adc08b9839a2",
   "metadata": {},
   "source": [
    "### Lists"
   ]
  },
  {
   "cell_type": "markdown",
   "id": "60861a63-e6d5-44e3-bfa4-d216f023baed",
   "metadata": {},
   "source": [
    "31. Create a list of five numbers and print them."
   ]
  },
  {
   "cell_type": "code",
   "execution_count": 61,
   "id": "9cea3e7c-a19f-472d-b1f0-c8e36ff4e13f",
   "metadata": {},
   "outputs": [
    {
     "name": "stdout",
     "output_type": "stream",
     "text": [
      "[1, 2, 3, 4, 5]\n"
     ]
    }
   ],
   "source": [
    "my_list = [1, 2, 3, 4, 5]\n",
    "print(my_list)"
   ]
  },
  {
   "cell_type": "markdown",
   "id": "c2fae507-257c-4a10-94e2-c5bba2c71862",
   "metadata": {},
   "source": [
    "32. Find the maximum and minimum value in a list."
   ]
  },
  {
   "cell_type": "code",
   "execution_count": 63,
   "id": "5e5b7377-79b0-4416-a80a-31331bcf82a0",
   "metadata": {},
   "outputs": [
    {
     "name": "stdout",
     "output_type": "stream",
     "text": [
      "Maximum value in [54, 78, 23, 17, 85, 35] -> 85.\n",
      "Minimum value in [54, 78, 23, 17, 85, 35] -> 17\n"
     ]
    }
   ],
   "source": [
    "L = [54, 78, 23, 17, 85, 35]\n",
    "\n",
    "sort_L = sorted(L)\n",
    "min_val = sort_L[0]\n",
    "max_val = sort_L[-1]\n",
    "\n",
    "print(f\"Maximum value in {L} -> {max_val}.\\nMinimum value in {L} -> {min_val}\")"
   ]
  },
  {
   "cell_type": "markdown",
   "id": "b5af72ab-928d-4146-b2f2-4c40b5d2ac3c",
   "metadata": {},
   "source": [
    "33. Find the sum of all elements in a list."
   ]
  },
  {
   "cell_type": "code",
   "execution_count": 65,
   "id": "88a4ac04-8300-464d-b950-9da43dcb6ec6",
   "metadata": {},
   "outputs": [
    {
     "name": "stdout",
     "output_type": "stream",
     "text": [
      "21\n"
     ]
    }
   ],
   "source": [
    "my_list = [1, 2, 3, 4, 5, 6]\n",
    "sum = 0\n",
    "for i in my_list:\n",
    "    sum += i\n",
    "\n",
    "print(sum)"
   ]
  },
  {
   "cell_type": "markdown",
   "id": "ed20478a-c301-4533-aee0-da8afe29fed5",
   "metadata": {},
   "source": [
    "34. Reverse a list without using reverse()."
   ]
  },
  {
   "cell_type": "code",
   "execution_count": 67,
   "id": "bbafbbec-1666-4bf1-8e22-52c055b5ebeb",
   "metadata": {},
   "outputs": [
    {
     "name": "stdout",
     "output_type": "stream",
     "text": [
      "[5, 4, 3, 2, 1]\n"
     ]
    }
   ],
   "source": [
    "LIST = [1,2,3,4,5]\n",
    "res = []\n",
    "n = len(LIST) - 1 # Start from the last index\n",
    "\n",
    "while n >= 0:\n",
    "    res.append(LIST[n])  # Add element from end\n",
    "    n -= 1               # Move one step backward\n",
    "\n",
    "print(res)"
   ]
  },
  {
   "cell_type": "markdown",
   "id": "87cf500a-2933-4931-aa75-0067d5a37266",
   "metadata": {},
   "source": [
    "35. Find the second largest number in a list."
   ]
  },
  {
   "cell_type": "code",
   "execution_count": 69,
   "id": "4b86db2f-8e3a-4a21-a06e-73b1b66ba4cb",
   "metadata": {},
   "outputs": [
    {
     "name": "stdout",
     "output_type": "stream",
     "text": [
      "Second largest number in [49, 55, 21, 62, 93, 30] -> 62\n"
     ]
    }
   ],
   "source": [
    "L = [49, 55, 21, 62, 93, 30]\n",
    "\n",
    "sort_L = sorted(L)\n",
    "sec_lar_num = sort_L[-2]\n",
    "\n",
    "print(f\"Second largest number in {L} -> {sec_lar_num}\")"
   ]
  },
  {
   "cell_type": "markdown",
   "id": "beec5ca2-f7ce-4968-b5d1-1a05fd8f1a76",
   "metadata": {},
   "source": [
    "36. Remove all duplicates from a list."
   ]
  },
  {
   "cell_type": "code",
   "execution_count": 71,
   "id": "4536b492-4658-4ced-906f-a564e9169626",
   "metadata": {},
   "outputs": [
    {
     "name": "stdout",
     "output_type": "stream",
     "text": [
      "[1, 2, 3]\n"
     ]
    }
   ],
   "source": [
    "new_l = [1, 1, 2, 3, 1, 2]\n",
    "rem_l = list(set(new_l))\n",
    "print(rem_l)"
   ]
  },
  {
   "cell_type": "markdown",
   "id": "688d6cbe-81f9-467b-afc0-f7f9ceb99590",
   "metadata": {},
   "source": [
    "37. Sort a list in ascending and descending order."
   ]
  },
  {
   "cell_type": "code",
   "execution_count": 73,
   "id": "a15bbb72-de03-4382-9806-49193ad3c03e",
   "metadata": {},
   "outputs": [
    {
     "name": "stdout",
     "output_type": "stream",
     "text": [
      "Ascending Order:- [1, 3, 4, 5]\n",
      "Descending Order:- [5, 4, 3, 1]\n"
     ]
    }
   ],
   "source": [
    "arr = [5, 3, 1, 4]\n",
    "\n",
    "def reverse(arr):\n",
    "    res = []\n",
    "    n = len(arr) - 1 \n",
    "\n",
    "    while n >= 0:\n",
    "        res.append(arr[n])\n",
    "        n -= 1           \n",
    "    return res\n",
    "    \n",
    "def sorting(arr, order = \"asc\"):\n",
    "    for i in range(1, len(arr)):\n",
    "        key = arr[i]\n",
    "        j = i - 1\n",
    "\n",
    "        while j >= 0 and arr[j] > key:\n",
    "            arr[j + 1] = arr[j]\n",
    "            j -= 1\n",
    "\n",
    "        arr[j + 1] = key\n",
    "\n",
    "    if order == \"desc\":\n",
    "        return reverse(arr)\n",
    "    else:\n",
    "        return arr\n",
    "\n",
    "print(f\"Ascending Order:- {sorting(arr, \"asc\")}\")\n",
    "print(f\"Descending Order:- {sorting(arr, \"desc\")}\")"
   ]
  },
  {
   "cell_type": "markdown",
   "id": "bbbaffe5-4070-42f7-9cea-be2bbfa71a2d",
   "metadata": {},
   "source": [
    "38. Count the occurrences of a given element in a list."
   ]
  },
  {
   "cell_type": "code",
   "execution_count": 75,
   "id": "2afab39e-ecf6-4b81-87ab-09a81998b009",
   "metadata": {},
   "outputs": [
    {
     "name": "stdout",
     "output_type": "stream",
     "text": [
      "3\n"
     ]
    }
   ],
   "source": [
    "new_l = [1, 1, 2, 3, 1, 2]\n",
    "\n",
    "count_ = new_l.count(1)\n",
    "print(count_)"
   ]
  },
  {
   "cell_type": "markdown",
   "id": "07e61545-3ba2-487a-9064-9441f99d8aec",
   "metadata": {},
   "source": [
    "39. Find the intersection of two lists."
   ]
  },
  {
   "cell_type": "code",
   "execution_count": 77,
   "id": "aab58080-bae6-4eb8-afc5-efa6b280cb89",
   "metadata": {},
   "outputs": [
    {
     "name": "stdout",
     "output_type": "stream",
     "text": [
      "[2, 4, 5]\n"
     ]
    }
   ],
   "source": [
    "l1 = [1, 2, 3, 4, 5]\n",
    "l2 = [2, 4, 5]\n",
    "\n",
    "intersection = [i for i in l1 if i in l2]  # using list comprehension\n",
    "print(intersection)"
   ]
  },
  {
   "cell_type": "markdown",
   "id": "bbb38bb2-c9e4-4b1e-9d66-d6cf6a9d1808",
   "metadata": {},
   "source": [
    "40. Merge two sorted lists into a single sorted list."
   ]
  },
  {
   "cell_type": "code",
   "execution_count": 79,
   "id": "ba7bff2e-a947-4354-9de0-1e3aa20ac90e",
   "metadata": {},
   "outputs": [
    {
     "name": "stdout",
     "output_type": "stream",
     "text": [
      "[1, 2, 3, 4, 5, 11, 12, 13, 14, 15]\n"
     ]
    }
   ],
   "source": [
    "l1 = [1,2,3,4,5]\n",
    "l2 = [11,12,13,14,15]\n",
    "\n",
    "def merge(list1, list2):\n",
    "    result = []\n",
    "    i = j = 0\n",
    "\n",
    "    while i < len(list1) and j < len(list2):\n",
    "        if list1[i] <= list2[j]:\n",
    "            result.append(list1[i])\n",
    "            i += 1\n",
    "        else:\n",
    "            result.append(list2[j])\n",
    "            j += 1\n",
    "\n",
    "    result.extend(list1[i:])\n",
    "    result.extend(list2[j:])\n",
    "    return result\n",
    "\n",
    "print(merge(l1,l2))"
   ]
  },
  {
   "cell_type": "markdown",
   "id": "f977e8e9-0533-471a-8108-ec579b3533f0",
   "metadata": {},
   "source": [
    "### Tuples and sets"
   ]
  },
  {
   "cell_type": "markdown",
   "id": "96719496-1b13-4805-bd77-6a5d5f882cce",
   "metadata": {},
   "source": [
    "41. Create a tuple and access its elements."
   ]
  },
  {
   "cell_type": "code",
   "execution_count": 81,
   "id": "ed9da748-268e-4eb3-9228-2d1af7e096e1",
   "metadata": {},
   "outputs": [
    {
     "name": "stdout",
     "output_type": "stream",
     "text": [
      "(1, 2, 3)\n"
     ]
    }
   ],
   "source": [
    "t = (1,2,3)\n",
    "print(t)"
   ]
  },
  {
   "cell_type": "markdown",
   "id": "4b998e72-4407-4c14-afea-54f788194673",
   "metadata": {},
   "source": [
    "42. Convert a list into a tuple."
   ]
  },
  {
   "cell_type": "code",
   "execution_count": 83,
   "id": "2ce88234-117f-49ba-a70a-713a3837df71",
   "metadata": {},
   "outputs": [
    {
     "name": "stdout",
     "output_type": "stream",
     "text": [
      "<class 'tuple'>\n"
     ]
    }
   ],
   "source": [
    "l1 = [7,8,9,11,5]\n",
    "tup = tuple(l1)\n",
    "print(type(tup))"
   ]
  },
  {
   "cell_type": "markdown",
   "id": "879786a0-cc95-4d52-888d-798fa2512a5e",
   "metadata": {},
   "source": [
    "43. Find the index of an element in a tuple."
   ]
  },
  {
   "cell_type": "code",
   "execution_count": 85,
   "id": "9fd2a583-1e5d-4919-b51d-05316b337ca3",
   "metadata": {},
   "outputs": [
    {
     "name": "stdout",
     "output_type": "stream",
     "text": [
      "2\n"
     ]
    }
   ],
   "source": [
    "def find_ind(t, a):\n",
    "    index = 0\n",
    "    for i in t:\n",
    "        if a == i:\n",
    "            break\n",
    "        else:\n",
    "            index += 1\n",
    "    return index\n",
    "\n",
    "print(find_ind((1,2,3,4,5), 3)) # tuple t=(1,2,3,4,5)"
   ]
  },
  {
   "cell_type": "markdown",
   "id": "2a287b33-7f2f-4638-8251-f23bb878ea7a",
   "metadata": {},
   "source": [
    "44. Count the occurrences of an element in a tuple."
   ]
  },
  {
   "cell_type": "code",
   "execution_count": 87,
   "id": "97fa679d-90e6-4b03-b3b4-65d29a6b6d7c",
   "metadata": {},
   "outputs": [
    {
     "name": "stdout",
     "output_type": "stream",
     "text": [
      "3\n"
     ]
    }
   ],
   "source": [
    "my_tuple = (1, 2, 3, 2, 4, 2, 5, 1)\n",
    "\n",
    "count_ele = my_tuple.count(2)\n",
    "print(count_ele)"
   ]
  },
  {
   "cell_type": "markdown",
   "id": "7214e217-b1e4-4f92-a48e-b1e921f7d37a",
   "metadata": {},
   "source": [
    "45. Create a set and add elements to it."
   ]
  },
  {
   "cell_type": "code",
   "execution_count": 89,
   "id": "91026370-501e-4928-a55e-f993b094e5c7",
   "metadata": {},
   "outputs": [
    {
     "name": "stdout",
     "output_type": "stream",
     "text": [
      "{1, 2, 3, 4}\n"
     ]
    }
   ],
   "source": [
    "thisset = set([1,2,3])\n",
    "thisset.add(4)\n",
    "print(thisset)"
   ]
  },
  {
   "cell_type": "markdown",
   "id": "1b45bfd8-0725-4d64-8eda-6ed3c7cacd0d",
   "metadata": {},
   "source": [
    "46. Remove an element from a set."
   ]
  },
  {
   "cell_type": "code",
   "execution_count": 91,
   "id": "86f2d48c-e305-4789-bd13-f1b72f2f9156",
   "metadata": {},
   "outputs": [
    {
     "name": "stdout",
     "output_type": "stream",
     "text": [
      "{1, 2, 3}\n"
     ]
    }
   ],
   "source": [
    "thisset.remove(4)\n",
    "print(thisset)"
   ]
  },
  {
   "cell_type": "markdown",
   "id": "69d3a2a0-9344-4e5b-b2c4-7cc72d3309af",
   "metadata": {},
   "source": [
    "47. Find the union of two sets."
   ]
  },
  {
   "cell_type": "code",
   "execution_count": 93,
   "id": "bd589b00-1ee1-4ad0-94e9-5eeb6487d351",
   "metadata": {},
   "outputs": [
    {
     "name": "stdout",
     "output_type": "stream",
     "text": [
      "{'b', 1, 2, 3, 'a', 'c'}\n"
     ]
    }
   ],
   "source": [
    "s1 = {'a', 'b', 'c'}\n",
    "s2 = {1, 2, 3}\n",
    "\n",
    "s3 = s1.union(s2)\n",
    "print(s3) "
   ]
  },
  {
   "cell_type": "markdown",
   "id": "331abd44-506f-43af-b6fc-6149dcbbb222",
   "metadata": {},
   "source": [
    "48. Find the intersection of two sets."
   ]
  },
  {
   "cell_type": "code",
   "execution_count": 95,
   "id": "d4b14309-6dd3-4937-a62f-b877ba6abc50",
   "metadata": {},
   "outputs": [
    {
     "name": "stdout",
     "output_type": "stream",
     "text": [
      "{2, 3, 5}\n"
     ]
    }
   ],
   "source": [
    "s1 = {1,2,3,4,5}\n",
    "s2 = {2,3,5}\n",
    "\n",
    "s3 = s1.intersection(s2)\n",
    "print(s3)"
   ]
  },
  {
   "cell_type": "markdown",
   "id": "bbba8c85-6708-4734-b0f4-dfe3344d5757",
   "metadata": {},
   "source": [
    "49. Find the difference between two sets."
   ]
  },
  {
   "cell_type": "code",
   "execution_count": 97,
   "id": "532e2009-972b-46f3-9572-e55470a9c039",
   "metadata": {},
   "outputs": [
    {
     "name": "stdout",
     "output_type": "stream",
     "text": [
      "{1, 4}\n"
     ]
    }
   ],
   "source": [
    "s1 = {1,2,3,4,5}\n",
    "s2 = {2,3,5}\n",
    "\n",
    "s3 = s1.difference(s2)\n",
    "print(s3)"
   ]
  },
  {
   "cell_type": "markdown",
   "id": "8f0c7397-b87b-431e-b143-96911efb8fed",
   "metadata": {},
   "source": [
    "50. Check if a set is a subset of another set."
   ]
  },
  {
   "cell_type": "code",
   "execution_count": 99,
   "id": "7dc4217a-387b-4945-87c9-d5f62dbcb57a",
   "metadata": {},
   "outputs": [
    {
     "name": "stdout",
     "output_type": "stream",
     "text": [
      "True\n"
     ]
    }
   ],
   "source": [
    "s1 = {1,2,3,4,5}\n",
    "s2 = {2,3,5}\n",
    "\n",
    "res = s2.issubset(s2)\n",
    "print(res)"
   ]
  },
  {
   "cell_type": "markdown",
   "id": "a754b079-45ce-424e-b397-0c50acfc92f7",
   "metadata": {},
   "source": [
    "### Dictionaries"
   ]
  },
  {
   "cell_type": "markdown",
   "id": "8be6c94c-cfda-4fac-ba4c-a93e2247e6d4",
   "metadata": {},
   "source": [
    "51. Create a dictionary and print its keys and values."
   ]
  },
  {
   "cell_type": "code",
   "execution_count": 101,
   "id": "c0af8b63-6c13-47e2-bbcc-492b06a8f6cf",
   "metadata": {},
   "outputs": [
    {
     "name": "stdout",
     "output_type": "stream",
     "text": [
      "{1: 'one', 2: 'two', 3: 'three'}\n"
     ]
    }
   ],
   "source": [
    "dict1 = {1:\"one\", 2:\"two\", 3:\"three\"}\n",
    "print(dict1)"
   ]
  },
  {
   "cell_type": "markdown",
   "id": "cd07b9af-71d2-421a-8560-082a43fae228",
   "metadata": {},
   "source": [
    "52. Add an item to a dictionary."
   ]
  },
  {
   "cell_type": "code",
   "execution_count": 103,
   "id": "630edc5d-c835-41bb-afd4-72746169a2a9",
   "metadata": {},
   "outputs": [
    {
     "name": "stdout",
     "output_type": "stream",
     "text": [
      "{1: 'one', 2: 'two', 3: 'three', 4: 'four'}\n"
     ]
    }
   ],
   "source": [
    "dict1 = {1:\"one\", 2:\"two\", 3:\"three\"}\n",
    "dict1[4]=\"four\"\n",
    "print(dict1)"
   ]
  },
  {
   "cell_type": "markdown",
   "id": "c2d9420b-0c71-4f51-9448-957b728e0e2f",
   "metadata": {},
   "source": [
    "53. Remove an item from a dictionary."
   ]
  },
  {
   "cell_type": "code",
   "execution_count": 105,
   "id": "55452d5c-e525-49d2-b2c4-0e9ea41f0aea",
   "metadata": {},
   "outputs": [
    {
     "name": "stdout",
     "output_type": "stream",
     "text": [
      "{1: 'one', 3: 'three', 4: 'four'}\n"
     ]
    }
   ],
   "source": [
    "dict_ = {1: 'one', 2: 'two', 3: 'three', 4: 'four'}\n",
    "dict_.pop(2)\n",
    "print(dict_)"
   ]
  },
  {
   "cell_type": "markdown",
   "id": "ff4643a1-48d3-44e6-8c0d-ef43ef7a8dda",
   "metadata": {},
   "source": [
    "54. Find a value associated with a given key."
   ]
  },
  {
   "cell_type": "code",
   "execution_count": 107,
   "id": "cd4a9e00-40c5-403a-90b3-eb6ca28ec7ee",
   "metadata": {},
   "outputs": [
    {
     "name": "stdout",
     "output_type": "stream",
     "text": [
      "four\n"
     ]
    }
   ],
   "source": [
    "dict_ = {1: 'one', 2: 'two', 3: 'three', 4: 'four'}\n",
    "print(dict_.get(4))"
   ]
  },
  {
   "cell_type": "markdown",
   "id": "6d13698b-51f8-4a3f-b24b-d96573085ca4",
   "metadata": {},
   "source": [
    "55. Check if a key exists in a dictionary."
   ]
  },
  {
   "cell_type": "code",
   "execution_count": 109,
   "id": "eb85a1f6-3abd-42cb-b4d8-5f9a3436dc20",
   "metadata": {},
   "outputs": [
    {
     "name": "stdout",
     "output_type": "stream",
     "text": [
      "Yes\n"
     ]
    }
   ],
   "source": [
    "key = \"d\"\n",
    "dict_ = {'a': 'one', 'b': 'two', 'c': 'three', 'd': 'four'}\n",
    "\n",
    "if key in dict_.keys():\n",
    "    print(\"Yes\") \n",
    "else:\n",
    "    print(\"No\")"
   ]
  },
  {
   "cell_type": "markdown",
   "id": "a481c437-a287-44d3-a6c6-b3d98a1b113b",
   "metadata": {},
   "source": [
    "56. Merge two dictionaries."
   ]
  },
  {
   "cell_type": "code",
   "execution_count": 111,
   "id": "065503b4-07b2-4453-84d2-0b8c40fe6e42",
   "metadata": {},
   "outputs": [
    {
     "name": "stdout",
     "output_type": "stream",
     "text": [
      "{'a': 'one', 'b': 'two', 'c': 'three', 'd': 'four'}\n"
     ]
    }
   ],
   "source": [
    "dict1 = {\"a\":\"one\", \"b\":\"two\"}\n",
    "dict2 = {\"c\":\"three\", \"d\":\"four\"}\n",
    "\n",
    "dict3 = dict1 | dict2\n",
    "print(dict3)"
   ]
  },
  {
   "cell_type": "markdown",
   "id": "6f8f70df-b9c7-4bc3-bc8b-3e955574b90b",
   "metadata": {},
   "source": [
    "57. Sort a dictionary by its keys."
   ]
  },
  {
   "cell_type": "code",
   "execution_count": 113,
   "id": "d0ea149c-b58d-42b4-9eb5-1b8a8cf6943d",
   "metadata": {},
   "outputs": [
    {
     "name": "stdout",
     "output_type": "stream",
     "text": [
      "{'Australia': 'Canberra', 'Brazil': 'Brasília', 'China': 'Beijing', 'India': 'New Delhi', 'Italy': 'Rome', 'Japan': 'Tokyo', 'Russia': 'Moscow', 'South Africa': 'Pretoria', 'United Kingdom': 'London'}\n"
     ]
    }
   ],
   "source": [
    "country_capitals = {\n",
    "    \"India\": \"New Delhi\",\n",
    "    \"Brazil\": \"Brasília\",\n",
    "    \"Australia\": \"Canberra\",\n",
    "    \"Japan\": \"Tokyo\",\n",
    "    \"China\": \"Beijing\",\n",
    "    \"Russia\": \"Moscow\",\n",
    "    \"United Kingdom\": \"London\",\n",
    "    \"South Africa\": \"Pretoria\",\n",
    "    \"Italy\": \"Rome\"\n",
    "}\n",
    "\n",
    "sorted_by_keys = dict(sorted(country_capitals.items()))\n",
    "print(sorted_by_keys)"
   ]
  },
  {
   "cell_type": "markdown",
   "id": "59ee1e8d-18fb-422c-8f4b-b2f03fe18e4f",
   "metadata": {},
   "source": [
    "58. Sort a dictionary by its values."
   ]
  },
  {
   "cell_type": "code",
   "execution_count": 115,
   "id": "d6f4bbc5-d7c5-4887-a9a0-76934efaeb0c",
   "metadata": {},
   "outputs": [
    {
     "name": "stdout",
     "output_type": "stream",
     "text": [
      "{'China': 'Beijing', 'Brazil': 'Brasília', 'Australia': 'Canberra', 'United Kingdom': 'London', 'Russia': 'Moscow', 'India': 'New Delhi', 'South Africa': 'Pretoria', 'Italy': 'Rome', 'Japan': 'Tokyo'}\n"
     ]
    }
   ],
   "source": [
    "country_capitals = {\n",
    "    \"India\": \"New Delhi\",\n",
    "    \"Brazil\": \"Brasília\",\n",
    "    \"Australia\": \"Canberra\",\n",
    "    \"Japan\": \"Tokyo\",\n",
    "    \"China\": \"Beijing\",\n",
    "    \"Russia\": \"Moscow\",\n",
    "    \"United Kingdom\": \"London\",\n",
    "    \"South Africa\": \"Pretoria\",\n",
    "    \"Italy\": \"Rome\"\n",
    "}\n",
    "\n",
    "sorted_by_values = dict(sorted(country_capitals.items(), key=lambda item: item[1]))\n",
    "print(sorted_by_values)"
   ]
  },
  {
   "cell_type": "markdown",
   "id": "c75284ec-122f-4b95-be1a-76c1c9f88633",
   "metadata": {},
   "source": [
    "59. Count the occurrences of each character in a string using a dictionary."
   ]
  },
  {
   "cell_type": "code",
   "execution_count": 117,
   "id": "4220b66a-d200-4875-a013-0b0347033af4",
   "metadata": {},
   "outputs": [
    {
     "name": "stdout",
     "output_type": "stream",
     "text": [
      "{1: 4, 2: 3, 3: 1, 4: 1}\n"
     ]
    }
   ],
   "source": [
    "List = [1,1,2,3,2,1,4,2,1]\n",
    "occur = {}\n",
    "\n",
    "for i in List:\n",
    "    occur[i] = occur.get(i, 0) + 1\n",
    "\n",
    "print(occur)"
   ]
  },
  {
   "cell_type": "markdown",
   "id": "57b93c18-34e3-4db6-bbc9-2137acd921dd",
   "metadata": {},
   "source": [
    "60. Convert two lists into a dictionary."
   ]
  },
  {
   "cell_type": "code",
   "execution_count": 119,
   "id": "847417b1-7fc3-46d9-ab36-14012244dfe6",
   "metadata": {},
   "outputs": [
    {
     "name": "stdout",
     "output_type": "stream",
     "text": [
      "{1: 'a', 2: 'b', 3: 'c', 4: 'd', 5: 'e'}\n"
     ]
    }
   ],
   "source": [
    "l1 = [1,2,3,4,5]\n",
    "l2 = ['a','b','c','d','e']\n",
    "\n",
    "new_dict = {}\n",
    "for i,j in zip(l1,l2):\n",
    "    new_dict[i] = j\n",
    "\n",
    "print(new_dict)"
   ]
  },
  {
   "cell_type": "markdown",
   "id": "36f1cc59-76a2-4466-b16c-e6599aa8402d",
   "metadata": {},
   "source": [
    "### String Manipulation"
   ]
  },
  {
   "cell_type": "markdown",
   "id": "c27635cb-40ad-4401-975e-e1ab6277442e",
   "metadata": {},
   "source": [
    "61. Reverse a string without using [::-1]."
   ]
  },
  {
   "cell_type": "code",
   "execution_count": 121,
   "id": "0491254b-e8c5-475f-ae88-67afee2e5a5f",
   "metadata": {},
   "outputs": [
    {
     "data": {
      "text/plain": [
       "'gnirts a esreveR'"
      ]
     },
     "execution_count": 121,
     "metadata": {},
     "output_type": "execute_result"
    }
   ],
   "source": [
    "s = \"Reverse a string\"\n",
    "\n",
    "def reverse(s):\n",
    "    res = ''\n",
    "    i = len(s)-1\n",
    "    while i >= 0:\n",
    "        res += s[i]\n",
    "        i -= 1\n",
    "    return res\n",
    "\n",
    "reverse(s)"
   ]
  },
  {
   "cell_type": "markdown",
   "id": "80548a68-9603-49c7-9a1f-783be2d70bcb",
   "metadata": {},
   "source": [
    "62. Remove all spaces from a string."
   ]
  },
  {
   "cell_type": "code",
   "execution_count": 123,
   "id": "2882e994-cab3-4b25-9556-81c086bb3c91",
   "metadata": {},
   "outputs": [
    {
     "name": "stdout",
     "output_type": "stream",
     "text": [
      "WearelearningPython.\n"
     ]
    }
   ],
   "source": [
    "s_ = \"      We    are learning         Python     .   \"\n",
    "s__ = s_.split()\n",
    "s___ = \"\".join(s__)\n",
    "print(s___)"
   ]
  },
  {
   "cell_type": "markdown",
   "id": "fa2ffb74-c761-42ea-8b46-052156f7f525",
   "metadata": {},
   "source": [
    "63. Replace a substring in a string."
   ]
  },
  {
   "cell_type": "code",
   "execution_count": 125,
   "id": "ed270a47-c525-4c97-aa2a-9687785530dd",
   "metadata": {},
   "outputs": [
    {
     "name": "stdout",
     "output_type": "stream",
     "text": [
      "We were learning Python.\n"
     ]
    }
   ],
   "source": [
    "s = \"We are learning Python.\"\n",
    "\n",
    "def replace(s, old, new):\n",
    "    st = s.split(' ')\n",
    "    if old in st:\n",
    "        i = 0 \n",
    "        while i < len(st):\n",
    "            if st[i] == old:\n",
    "                st[i] = new\n",
    "                break\n",
    "            i += 1\n",
    "    return \" \".join(st)\n",
    "\n",
    "print(replace(s, \"are\", \"were\"))"
   ]
  },
  {
   "cell_type": "markdown",
   "id": "d9018cdd-88e3-456a-858a-0267e46379f2",
   "metadata": {},
   "source": [
    "64. Find the first non-repeating character in a string."
   ]
  },
  {
   "cell_type": "code",
   "execution_count": 127,
   "id": "9185a598-d793-4f46-8c1b-e1467fef9f3f",
   "metadata": {},
   "outputs": [
    {
     "name": "stdout",
     "output_type": "stream",
     "text": [
      "First non-repeating character is: 'c'\n"
     ]
    }
   ],
   "source": [
    "def first_non_repeating_char(s):\n",
    "    freq = {}\n",
    "\n",
    "    # Step 1: Count frequencies\n",
    "    for ch in s:\n",
    "        freq[ch] = freq.get(ch, 0) + 1\n",
    "\n",
    "    # Step 2: Find the first non-repeating character\n",
    "    for ch in s:\n",
    "        if freq[ch] == 1:\n",
    "            return f\"First non-repeating character is: '{ch}'\"\n",
    "\n",
    "    return \"No non-repeating character found.\"\n",
    "\n",
    "string = \"aabbcddexf\"\n",
    "print(first_non_repeating_char(string))"
   ]
  },
  {
   "cell_type": "markdown",
   "id": "e169d235-1252-4141-8a75-d71e37bfe400",
   "metadata": {},
   "source": [
    "65. Count the number of words in a string."
   ]
  },
  {
   "cell_type": "code",
   "execution_count": 129,
   "id": "87c80c2f-b9fe-4f94-8127-72a724d95a4d",
   "metadata": {},
   "outputs": [
    {
     "name": "stdout",
     "output_type": "stream",
     "text": [
      "4\n"
     ]
    }
   ],
   "source": [
    "s = \"We are learning Python.\"\n",
    "\n",
    "def count_word(s):\n",
    "    st = s.split()\n",
    "    count = len(st)\n",
    "    return count\n",
    "\n",
    "print(count_word(s))"
   ]
  },
  {
   "cell_type": "markdown",
   "id": "ec211a12-6b9f-4475-abcf-9474a5643a5d",
   "metadata": {},
   "source": [
    "66. Check if two strings are anagrams."
   ]
  },
  {
   "cell_type": "code",
   "execution_count": 131,
   "id": "3dd6b182-282f-44c0-96a8-3c5497598090",
   "metadata": {},
   "outputs": [
    {
     "name": "stdout",
     "output_type": "stream",
     "text": [
      "Yes\n"
     ]
    }
   ],
   "source": [
    "s1 = 'silent'\n",
    "s2 = 'listen'\n",
    "\n",
    "def anagrams(s1, s2):\n",
    "    if len(s1) != len(s2):\n",
    "        return 'No'\n",
    "        \n",
    "    for i in s2:\n",
    "        if i in s1:\n",
    "            continue\n",
    "        else:\n",
    "            return 'NO'\n",
    "    return 'Yes'\n",
    "\n",
    "print(anagrams(s1,s2))"
   ]
  },
  {
   "cell_type": "markdown",
   "id": "3f14e0ba-a1f8-4cf7-8d91-543afbbcbe51",
   "metadata": {},
   "source": [
    "67. Find the most frequent character in a string."
   ]
  },
  {
   "cell_type": "code",
   "execution_count": 133,
   "id": "5adebd60-cfbd-433e-bd89-f9dfe0dc3df8",
   "metadata": {},
   "outputs": [
    {
     "name": "stdout",
     "output_type": "stream",
     "text": [
      "The most frequent character in (A class is a collection of objects) is 'c'.\n"
     ]
    }
   ],
   "source": [
    "string = 'A class is a collection of objects'\n",
    "\n",
    "freq = {}\n",
    "for i in string:\n",
    "    if i != ' ':\n",
    "        freq[i] = freq.get(i, 0) + 1\n",
    "\n",
    "# Get the most frequent character using max\n",
    "freq_char = max(freq.items(), key=lambda item: item[1])[0]\n",
    "\n",
    "print(f\"The most frequent character in ({string}) is '{freq_char}'.\")\n"
   ]
  },
  {
   "cell_type": "markdown",
   "id": "af3a1f3f-7122-4d63-a980-4c4736db9415",
   "metadata": {},
   "source": [
    "68. Remove punctuation from a string."
   ]
  },
  {
   "cell_type": "code",
   "execution_count": 135,
   "id": "471a92c1-356a-4694-b013-1df3bed41d94",
   "metadata": {},
   "outputs": [
    {
     "name": "stdout",
     "output_type": "stream",
     "text": [
      "Well isnt this amazing Waitdid you say three pizzas or four Oh no not again Im speechless\n"
     ]
    }
   ],
   "source": [
    "string = \"Well... isn't this amazing? Wait—did you say three pizzas, or four?! Oh no, not again; I'm speechless!\"\n",
    "\n",
    "import re\n",
    "\n",
    "def remove_pun(text):\n",
    "    return re.sub(r'[^\\w\\s]', '', text)\n",
    "\n",
    "print(remove_pun(string))"
   ]
  },
  {
   "cell_type": "markdown",
   "id": "278f7b7d-96b9-4921-b55c-866c665ff6ea",
   "metadata": {},
   "source": [
    "69. Convert a string into a list of words."
   ]
  },
  {
   "cell_type": "code",
   "execution_count": 137,
   "id": "3110d181-4bbb-47a7-900c-c73a3c3ef5c3",
   "metadata": {},
   "outputs": [
    {
     "name": "stdout",
     "output_type": "stream",
     "text": [
      "['A', 'class', 'is', 'a', 'collection', 'of', 'objects']\n"
     ]
    }
   ],
   "source": [
    "string = 'A class is a collection of objects'\n",
    "\n",
    "def list_of_words(string):\n",
    "    word_list = string.split()\n",
    "    return word_list\n",
    "\n",
    "print(list_of_words(string))"
   ]
  },
  {
   "cell_type": "markdown",
   "id": "6509574c-d925-4598-832a-5ea40cdec917",
   "metadata": {},
   "source": [
    "70. Find the longest word in a sentence."
   ]
  },
  {
   "cell_type": "code",
   "execution_count": 139,
   "id": "653c9f70-9f97-469b-b539-408595dc2b54",
   "metadata": {},
   "outputs": [
    {
     "name": "stdout",
     "output_type": "stream",
     "text": [
      "Longest word in a sentence --> collection\n"
     ]
    }
   ],
   "source": [
    "string = 'A class is a collection of objects'\n",
    "\n",
    "def longest(string):\n",
    "    words = list_of_words(string)\n",
    "    longest_word = max(words, key=len)\n",
    "    return f\"Longest word in a sentence --> {longest_word}\"\n",
    "\n",
    "print(longest(string))"
   ]
  },
  {
   "cell_type": "markdown",
   "id": "5da7587e-7813-49a2-89b4-9e531a6a6cc7",
   "metadata": {},
   "source": [
    "### File Handling"
   ]
  },
  {
   "cell_type": "markdown",
   "id": "3dfefab3-ee2d-430d-b185-ba47a73a36b2",
   "metadata": {},
   "source": [
    "71. Write a program to read a file and print its contents."
   ]
  },
  {
   "cell_type": "code",
   "execution_count": 141,
   "id": "6edf36b5-a572-4e39-9d0b-3ec732850e97",
   "metadata": {},
   "outputs": [
    {
     "name": "stdout",
     "output_type": "stream",
     "text": [
      "Python is:\n",
      "\n",
      "- A high-level language, used in web development, data science, automation, AI and more.\n",
      "- Known for its readability, which means code is easier to write, understand and maintain.\n",
      "- Backed by library support, so we don't have to build everything from scratch, there's probably a library that already does what we need. 330\n"
     ]
    }
   ],
   "source": [
    "f = open('Python_text.txt', mode='r')\n",
    "print(f.read(), f.tell())\n",
    "f.close()"
   ]
  },
  {
   "cell_type": "markdown",
   "id": "2bb7114a-0b44-4c6e-ad36-d69f0ffa6086",
   "metadata": {},
   "source": [
    "72. Write a program to write data to a file."
   ]
  },
  {
   "cell_type": "code",
   "execution_count": 143,
   "id": "e9ab612f-1a04-4133-9716-eb8101f90c59",
   "metadata": {
    "scrolled": true
   },
   "outputs": [
    {
     "name": "stdout",
     "output_type": "stream",
     "text": [
      "Pyhton Data Structures- Python offers versatile collections of data types, including lists, string, tuples, sets, dictionaries and arrays.\n"
     ]
    }
   ],
   "source": [
    "data = 'Pyhton Data Structures- Python offers versatile collections of data types, including lists, string, tuples, sets, dictionaries and arrays.'\n",
    "\n",
    "with open('Python_data_types.txt', mode='w') as f:  # no need to close file\n",
    "    f.write(data)\n",
    "\n",
    "with open('Python_data_types.txt', mode='r') as f:  \n",
    "    print(f.read())\n"
   ]
  },
  {
   "cell_type": "markdown",
   "id": "826a1897-7174-4dd6-b8f7-70e2ce18df30",
   "metadata": {},
   "source": [
    "73. Append data to an existing file."
   ]
  },
  {
   "cell_type": "code",
   "execution_count": 145,
   "id": "c18b026b-09a3-4c5c-b7d0-f0491a9dfc8a",
   "metadata": {},
   "outputs": [
    {
     "name": "stdout",
     "output_type": "stream",
     "text": [
      "Pyhton Data Structures- Python offers versatile collections of data types, including lists, string, tuples, sets, dictionaries and arrays.\n",
      "Writing to a file in Python means saving data generated by your program into a file on your system.\n"
     ]
    }
   ],
   "source": [
    "new_line = '\\nWriting to a file in Python means saving data generated by your program into a file on your system.'\n",
    "\n",
    "# Append the new line to the file\n",
    "with open('Python_data_types.txt', mode='a') as f:  # no need to close file\n",
    "    f.write(new_line)\n",
    "\n",
    "# Read and print the file content\n",
    "with open('Python_data_types.txt', mode='r') as f:  \n",
    "    print(f.read())\n"
   ]
  },
  {
   "cell_type": "markdown",
   "id": "773c21f0-81f3-45f3-b028-948bc65d1504",
   "metadata": {},
   "source": [
    "74. Count the number of lines in a file."
   ]
  },
  {
   "cell_type": "code",
   "execution_count": 147,
   "id": "ba83c5a2-7e17-4289-8f9f-703a097f7c0d",
   "metadata": {},
   "outputs": [
    {
     "name": "stdout",
     "output_type": "stream",
     "text": [
      "Total lines: 2\n"
     ]
    }
   ],
   "source": [
    "with open('Python_data_types.txt', 'r') as f:\n",
    "    lines = f.readlines()\n",
    "    print(f\"Total lines: {len(lines)}\")\n"
   ]
  },
  {
   "cell_type": "markdown",
   "id": "ea33012f-e0d0-408a-aec1-a6954c2c5a3a",
   "metadata": {},
   "source": [
    "75. Count the number of words in a file."
   ]
  },
  {
   "cell_type": "code",
   "execution_count": 149,
   "id": "a335d38f-af88-4e80-8ab0-1f9291ef452b",
   "metadata": {},
   "outputs": [
    {
     "name": "stdout",
     "output_type": "stream",
     "text": [
      "Total words: 37\n"
     ]
    }
   ],
   "source": [
    "with open('Python_data_types.txt', 'r') as f:\n",
    "    lines = f.readlines()\n",
    "    words = 0\n",
    "    for line in lines:\n",
    "        words += len(line.split())  # split() breaks line into words\n",
    "    print(f\"Total words: {words}\")\n"
   ]
  },
  {
   "cell_type": "markdown",
   "id": "19fd2cd8-bb06-4377-8d35-bccf5b5f7c20",
   "metadata": {},
   "source": [
    "76. Count the number of characters in a file."
   ]
  },
  {
   "cell_type": "code",
   "execution_count": 151,
   "id": "fafbde8c-898e-4352-9b12-3bf6fc5c9455",
   "metadata": {},
   "outputs": [
    {
     "name": "stdout",
     "output_type": "stream",
     "text": [
      "Total characters: 238\n"
     ]
    }
   ],
   "source": [
    "with open('Python_data_types.txt', 'r') as f:\n",
    "    lines = f.readlines()\n",
    "    char = 0\n",
    "    for line in lines:\n",
    "        char += len(line)  \n",
    "    print(f\"Total characters: {char}\")\n"
   ]
  },
  {
   "cell_type": "markdown",
   "id": "4034be9c-76b1-4af9-b461-9d9b2d261408",
   "metadata": {},
   "source": [
    "77. Find and replace a word in a file."
   ]
  },
  {
   "cell_type": "code",
   "execution_count": 153,
   "id": "5af647f2-dae9-4892-9b85-43aac9927674",
   "metadata": {},
   "outputs": [
    {
     "name": "stdout",
     "output_type": "stream",
     "text": [
      "Before:  Python is one of the most popular programming languages.\n",
      "After:  Java is one of the most popular programming languages.\n",
      "Word replaced successfully!\n"
     ]
    }
   ],
   "source": [
    "with open('example.txt', 'r') as file:\n",
    "    content = file.read()\n",
    "    print('Before: ', content)\n",
    "\n",
    "# Replace the word\n",
    "content = content.replace('Python', 'Java')\n",
    "\n",
    "# Write the modified content back to the file\n",
    "with open('example.txt', 'w') as file:\n",
    "    file.write(content)\n",
    "\n",
    "with open('example.txt', 'r') as file:\n",
    "    print('After: ', file.read())\n",
    "    \n",
    "print(\"Word replaced successfully!\")\n"
   ]
  },
  {
   "cell_type": "markdown",
   "id": "dc59ffa1-0991-476f-80f8-1116774b6967",
   "metadata": {},
   "source": [
    "78. Copy the contents of one file to another."
   ]
  },
  {
   "cell_type": "code",
   "execution_count": 155,
   "id": "62bfea43-e6ac-43e9-bd5f-67bbd0f358c5",
   "metadata": {},
   "outputs": [
    {
     "name": "stdout",
     "output_type": "stream",
     "text": [
      "Content copied successfully.\n"
     ]
    }
   ],
   "source": [
    "with open('example.txt', 'r') as src:\n",
    "    content = src.read()\n",
    "\n",
    "with open('example_2.txt', 'w') as dst:\n",
    "    dst.write(content)\n",
    "\n",
    "print(\"Content copied successfully.\")"
   ]
  },
  {
   "cell_type": "markdown",
   "id": "64ed3d16-2226-4de9-bb1d-7c56a10a6d3d",
   "metadata": {},
   "source": [
    "79. Check if a file exists in a directory."
   ]
  },
  {
   "cell_type": "code",
   "execution_count": 157,
   "id": "ae39e4ea-de21-4997-a88f-f5f2d247a2d9",
   "metadata": {},
   "outputs": [
    {
     "name": "stdout",
     "output_type": "stream",
     "text": [
      "File exists!\n"
     ]
    }
   ],
   "source": [
    "import os\n",
    "\n",
    "if os.path.exists('example_2.txt'):\n",
    "    print(\"File exists!\")\n",
    "else:\n",
    "    print(\"File does not exist.\")\n"
   ]
  },
  {
   "cell_type": "markdown",
   "id": "55d9a58a-4f3f-438f-bc22-9543d0f3dfa4",
   "metadata": {},
   "source": [
    "80. Remove a file using Python."
   ]
  },
  {
   "cell_type": "code",
   "execution_count": 159,
   "id": "a4ffb8a4-25d6-495f-bcd5-ecab950d38cb",
   "metadata": {},
   "outputs": [
    {
     "name": "stdout",
     "output_type": "stream",
     "text": [
      "File removed successfully.\n"
     ]
    }
   ],
   "source": [
    "import os\n",
    "\n",
    "file_path = 'example_2.txt'\n",
    "\n",
    "if os.path.exists(file_path):\n",
    "    os.remove(file_path)\n",
    "    print(\"File removed successfully.\")\n",
    "else:\n",
    "    print(\"File does not exist.\")\n",
    "\n"
   ]
  },
  {
   "cell_type": "markdown",
   "id": "c2de945e-809d-4a08-87d9-63942f8f69fa",
   "metadata": {},
   "source": [
    "### Exception Handling"
   ]
  },
  {
   "cell_type": "markdown",
   "id": "11cf5a9b-dab4-4b66-8d6c-0c78df74d72b",
   "metadata": {},
   "source": [
    "81. Write a program that handles division by zero."
   ]
  },
  {
   "cell_type": "code",
   "execution_count": 161,
   "id": "05b665b5-d9a7-47b0-8c4f-75db93ef6942",
   "metadata": {},
   "outputs": [
    {
     "name": "stdout",
     "output_type": "stream",
     "text": [
      "Division by zero is invalid.\n"
     ]
    }
   ],
   "source": [
    "def division(a, b):\n",
    "    return a / b\n",
    "\n",
    "try:\n",
    "    d = division(5, 0)\n",
    "except ZeroDivisionError:\n",
    "    print('Division by zero is invalid.')\n",
    "else:\n",
    "    print(d)\n"
   ]
  },
  {
   "cell_type": "markdown",
   "id": "3394b389-fe80-49de-9e49-c69dffe7bdb7",
   "metadata": {},
   "source": [
    "82. Handle an exception when accessing a non-existent list index."
   ]
  },
  {
   "cell_type": "code",
   "execution_count": 163,
   "id": "e6039c6c-7ca6-4445-af24-c4d0f8df9b1d",
   "metadata": {},
   "outputs": [
    {
     "name": "stdout",
     "output_type": "stream",
     "text": [
      "Invalid index! Please check the list range.\n"
     ]
    }
   ],
   "source": [
    "def find_ele(arr, index):\n",
    "    return arr[index]\n",
    "    \n",
    "try:\n",
    "    a = find_ele(arr=[1,2,3,4], index=5)\n",
    "\n",
    "except IndexError:\n",
    "    print(\"Invalid index! Please check the list range.\")\n",
    "\n",
    "else:\n",
    "    print(a)"
   ]
  },
  {
   "cell_type": "markdown",
   "id": "b8c2afff-d1ca-4c12-aa5e-716e074ad312",
   "metadata": {},
   "source": [
    "83. Handle a KeyError when accessing a dictionary."
   ]
  },
  {
   "cell_type": "code",
   "execution_count": 165,
   "id": "2a3eab00-4f3c-4898-ac27-d95e3d76d9a3",
   "metadata": {},
   "outputs": [
    {
     "name": "stdout",
     "output_type": "stream",
     "text": [
      "There is no such key(z) in {'x': 100, 'y': 200}\n"
     ]
    }
   ],
   "source": [
    "d = {'x': 100, 'y': 200}\n",
    "\n",
    "try:\n",
    "    key = 'z'\n",
    "    a = d[key]\n",
    "\n",
    "except KeyError:\n",
    "    print(f'There is no such key({key}) in {d}')\n",
    "\n",
    "else:\n",
    "    print(a)"
   ]
  },
  {
   "cell_type": "markdown",
   "id": "5ad480f6-a096-4f80-8487-6cf1baea95ac",
   "metadata": {},
   "source": [
    "84. Handle a ValueError when converting a string to an integer."
   ]
  },
  {
   "cell_type": "code",
   "execution_count": 167,
   "id": "496f74da-b98b-4212-a335-9e52d6fc6877",
   "metadata": {},
   "outputs": [
    {
     "name": "stdout",
     "output_type": "stream",
     "text": [
      "invalid literal for int() with base 10: 'a'\n"
     ]
    }
   ],
   "source": [
    "try:\n",
    "    def convert(a):\n",
    "        b = int(a)\n",
    "        return b\n",
    "\n",
    "    convert(\"a\")\n",
    "\n",
    "except ValueError as e:\n",
    "    print(e)"
   ]
  },
  {
   "cell_type": "markdown",
   "id": "b8362a5f-cc34-41d3-81a2-434b506dea31",
   "metadata": {},
   "source": [
    "85. Handle multiple exceptions in a single try block."
   ]
  },
  {
   "cell_type": "code",
   "execution_count": 169,
   "id": "e476e5d9-b10b-458e-a8d5-3606fd72594e",
   "metadata": {},
   "outputs": [
    {
     "name": "stdout",
     "output_type": "stream",
     "text": [
      "You can't divide a number by a string!\n"
     ]
    }
   ],
   "source": [
    "try:\n",
    "    a = 10\n",
    "    b = '5'\n",
    "    result = a / b  # This will raise TypeError\n",
    "\n",
    "except ZeroDivisionError:\n",
    "    print(\"You can't divide by zero!\")\n",
    "\n",
    "except TypeError:\n",
    "    print(\"You can't divide a number by a string!\")\n",
    "\n",
    "except Exception as e:\n",
    "    print(f\"Some other error occurred: {e}\")\n",
    "\n",
    "else:\n",
    "    print(f\"Result: {result}\")"
   ]
  },
  {
   "cell_type": "markdown",
   "id": "91692697-4b99-4780-ac55-8458238b32b1",
   "metadata": {},
   "source": [
    "86. Write a program that raises an exception when an invalid input is given."
   ]
  },
  {
   "cell_type": "code",
   "execution_count": 171,
   "id": "7e6f8583-5208-4c1b-9288-301b35c109e4",
   "metadata": {},
   "outputs": [
    {
     "name": "stdin",
     "output_type": "stream",
     "text": [
      "Enter your age:  -20\n"
     ]
    },
    {
     "name": "stdout",
     "output_type": "stream",
     "text": [
      "Error: Invalid input! Age must be a positive integer.\n"
     ]
    }
   ],
   "source": [
    "def get_age():\n",
    "    age_input = input(\"Enter your age: \")\n",
    "\n",
    "    if not age_input.isdigit():\n",
    "        raise ValueError(\"Invalid input! Age must be a positive integer.\")\n",
    "\n",
    "    age = int(age_input)\n",
    "    print(f\"Your age is {age}\")\n",
    "\n",
    "try:\n",
    "    get_age()\n",
    "\n",
    "except ValueError as e:\n",
    "    print(f\"Error: {e}\")\n"
   ]
  },
  {
   "cell_type": "markdown",
   "id": "5f9955f3-b01a-48cf-9256-cfae27503be8",
   "metadata": {},
   "source": [
    "87. Write a program that uses finally for cleanup operations."
   ]
  },
  {
   "cell_type": "code",
   "execution_count": 173,
   "id": "b2a7d808-6b44-41fc-8b73-4788ad20c8e6",
   "metadata": {},
   "outputs": [
    {
     "name": "stdout",
     "output_type": "stream",
     "text": [
      "Java is one of the most popular programming languages.\n",
      "Closing the file (if it was opened).\n"
     ]
    }
   ],
   "source": [
    "def read_file(filename):\n",
    "    try:\n",
    "        f = open(filename, 'r')\n",
    "        # Intentionally cause an error (e.g., reading from a non-existent file or bad format)\n",
    "        content = f.read()\n",
    "        print(content)\n",
    "    \n",
    "    except FileNotFoundError:\n",
    "        print(\"Error: The file was not found.\")\n",
    "    \n",
    "    finally:\n",
    "        # Cleanup action\n",
    "        print(\"Closing the file (if it was opened).\")\n",
    "        try:\n",
    "            f.close()\n",
    "        except:\n",
    "            pass  # If file wasn't opened, skip closing\n",
    "\n",
    "# Call the function with a test filename\n",
    "read_file('example.txt')\n"
   ]
  },
  {
   "cell_type": "markdown",
   "id": "b11c8588-78a5-4a5d-b5a1-20e95b416961",
   "metadata": {},
   "source": [
    "88. Handle a file not found error."
   ]
  },
  {
   "cell_type": "code",
   "execution_count": 175,
   "id": "33971f61-ebb7-40cb-90a5-8572b70a5890",
   "metadata": {},
   "outputs": [
    {
     "name": "stdout",
     "output_type": "stream",
     "text": [
      "[Errno 2] No such file or directory: 'test.txt'\n"
     ]
    }
   ],
   "source": [
    "try:\n",
    "    with open('test.txt') as f:\n",
    "        pass\n",
    "except FileNotFoundError as e:\n",
    "    print(e)\n",
    "    "
   ]
  },
  {
   "cell_type": "markdown",
   "id": "b45472b0-bfac-4dda-976c-58656376b11c",
   "metadata": {},
   "source": [
    "89. Handle a TypeError when performing an invalid operation."
   ]
  },
  {
   "cell_type": "code",
   "execution_count": 177,
   "id": "d3036d2f-cce2-4b43-9229-3a69c17f4509",
   "metadata": {},
   "outputs": [
    {
     "name": "stdout",
     "output_type": "stream",
     "text": [
      "TypeError occurred: can only concatenate str (not \"int\") to str\n"
     ]
    }
   ],
   "source": [
    "try:\n",
    "    a = \"10\"\n",
    "    b = 5\n",
    "    result = a + b  # This will raise TypeError: can't concatenate str and int\n",
    "except TypeError as e:\n",
    "    print(f\"TypeError occurred: {e}\")\n",
    "else:\n",
    "    print(f\"Result: {result}\")\n"
   ]
  },
  {
   "cell_type": "markdown",
   "id": "b87a872e-cb48-447d-83c8-4032f852227d",
   "metadata": {},
   "source": [
    "90. Write a custom exception and raise it."
   ]
  },
  {
   "cell_type": "code",
   "execution_count": 179,
   "id": "4f1841c8-9a40-46d3-8766-cccf0f976df8",
   "metadata": {},
   "outputs": [
    {
     "name": "stdin",
     "output_type": "stream",
     "text": [
      "Enter a number:  -5\n"
     ]
    },
    {
     "name": "stdout",
     "output_type": "stream",
     "text": [
      "Custom Exception Caught → Negative numbers are not allowed: -5\n"
     ]
    }
   ],
   "source": [
    "# Define a custom exception\n",
    "class NegativeNumberError(Exception):\n",
    "    def __init__(self, number):\n",
    "        super().__init__(f\"Negative numbers are not allowed: {number}\")\n",
    "\n",
    "# Use the custom exception\n",
    "def check_number(n):\n",
    "    if n < 0:\n",
    "        raise NegativeNumberError(n)\n",
    "    else:\n",
    "        print(f\"The number {n} is valid.\")\n",
    "\n",
    "# Test with try-except\n",
    "try:\n",
    "    num = int(input(\"Enter a number: \"))\n",
    "    check_number(num)\n",
    "\n",
    "except NegativeNumberError as e:\n",
    "    print(f\"Custom Exception Caught → {e}\")\n",
    "except ValueError:\n",
    "    print(\"Please enter a valid integer.\")\n"
   ]
  },
  {
   "cell_type": "markdown",
   "id": "03ab0bc7-5d20-43ee-88e5-dca7bd4bcb7d",
   "metadata": {},
   "source": [
    "### OOP(Oject-Oriented Programming)"
   ]
  },
  {
   "cell_type": "markdown",
   "id": "12e52d3a-34f8-4283-99c5-a1f5bcafe097",
   "metadata": {},
   "source": [
    "91. Create a class with an __init__ method and instantiate an object."
   ]
  },
  {
   "cell_type": "code",
   "execution_count": 181,
   "id": "ab8df4ca-1196-4960-8400-5ce7cc38a44d",
   "metadata": {},
   "outputs": [
    {
     "name": "stdout",
     "output_type": "stream",
     "text": [
      "This is a demo class.\n"
     ]
    }
   ],
   "source": [
    "class Demo:\n",
    "    def __init__(self):\n",
    "        print(\"This is a demo class.\")\n",
    "\n",
    "obj = Demo()"
   ]
  },
  {
   "cell_type": "markdown",
   "id": "443f3b46-4cba-4ea6-a18b-4b7ef23e58b4",
   "metadata": {},
   "source": [
    "92. Add a method to a class and call it."
   ]
  },
  {
   "cell_type": "code",
   "execution_count": 183,
   "id": "61ba84c2-7163-40bb-b12f-6e518c6e3a17",
   "metadata": {},
   "outputs": [
    {
     "name": "stdout",
     "output_type": "stream",
     "text": [
      "🥔 A wild potato named Spuddy has appeared! Mood: grumpy\n",
      "Spuddy frowns: 'I only eat butter. What is this veggies? Disgusting.'\n",
      "Spuddy curls up in a sack and dozes off... 💤\n"
     ]
    }
   ],
   "source": [
    "import random\n",
    "\n",
    "class PetPotato:\n",
    "    moods = ['happy', 'sleepy', 'grumpy', 'confused']\n",
    "\n",
    "    def __init__(self, name):\n",
    "        self.name = name\n",
    "        self.mood = random.choice(self.moods)\n",
    "        print(f\"🥔 A wild potato named {self.name} has appeared! Mood: {self.mood}\")\n",
    "\n",
    "    def feed(self, snack):\n",
    "        if snack.lower() == 'butter':\n",
    "            self.energy += 2\n",
    "            print(f\"{self.name} screams in delight: 'BUTTER ME UP!' 🍽️\")\n",
    "        else:\n",
    "            self.mood = 'grumpy'\n",
    "            print(f\"{self.name} frowns: 'I only eat butter. What is this {snack}? Disgusting.'\")\n",
    "\n",
    "    def sleep(self):\n",
    "        self.mood = 'sleepy'\n",
    "        print(f\"{self.name} curls up in a sack and dozes off... 💤\")\n",
    "\n",
    "spuddy = PetPotato(\"Spuddy\")\n",
    "spuddy.feed(\"veggies\")\n",
    "spuddy.sleep()"
   ]
  },
  {
   "cell_type": "markdown",
   "id": "41a75b33-ddeb-437a-9bd8-75cc44ff2f78",
   "metadata": {},
   "source": [
    "93. Create a class with private variables."
   ]
  },
  {
   "cell_type": "code",
   "execution_count": 185,
   "id": "ba98966d-3948-4f13-8a0a-1bd7f5d4aa30",
   "metadata": {},
   "outputs": [
    {
     "name": "stdout",
     "output_type": "stream",
     "text": [
      "1500\n",
      "'BankAccount' object has no attribute '__balance'\n"
     ]
    }
   ],
   "source": [
    "class BankAccount:\n",
    "    def __init__(self, owner, balance):\n",
    "        self.owner = owner\n",
    "        self.__balance = balance  # private variable\n",
    "\n",
    "    def deposit(self, amount):\n",
    "        self.__balance += amount\n",
    "\n",
    "    def get_balance(self):\n",
    "        return self.__balance\n",
    "\n",
    "# Create an object\n",
    "account = BankAccount(\"Alice\", 1000)\n",
    "\n",
    "# Accessing methods\n",
    "account.deposit(500)\n",
    "print(account.get_balance())  # Outputs: 1500\n",
    "\n",
    "# Trying to access private variable directly\n",
    "try:\n",
    "    print(account.__balance)  # AttributeError\n",
    "except AttributeError as e:\n",
    "    print(e)"
   ]
  },
  {
   "cell_type": "markdown",
   "id": "a1d17949-1e2a-4ab4-bdcd-73d102d58a89",
   "metadata": {},
   "source": [
    "94. Implement a class with inheritance."
   ]
  },
  {
   "cell_type": "code",
   "execution_count": 187,
   "id": "63d9f7a6-fae2-42ef-976f-9085850c64d8",
   "metadata": {},
   "outputs": [
    {
     "name": "stdout",
     "output_type": "stream",
     "text": [
      "*Pre-tentioned Seat belts\n",
      "*Airbags\n",
      "*Anti-Lock Braking System\n",
      "*Turbocharged engines\n",
      "\n",
      "Model- Lamborghini Huracan\n",
      "Color- Nero Helene\n",
      "Top Speed- 325kmph\n",
      "Engine- 5.2-liter V10 engine\n",
      "Transmission- 7-speed dual-clutch automatic\n",
      "\n"
     ]
    }
   ],
   "source": [
    "class CAR:\n",
    "    def basic_features(self):\n",
    "        print('*Pre-tentioned Seat belts\\n*Airbags\\n*Anti-Lock Braking System\\n*Turbocharged engines\\n')\n",
    "\n",
    "class LAMBO(CAR):   \n",
    "    def __init__(self, model, color):\n",
    "        self.color = color\n",
    "        self.model = model\n",
    "\n",
    "    def features(self):\n",
    "        print(f'Model- {self.model}\\nColor- {self.color}\\nTop Speed- 325kmph\\nEngine- 5.2-liter V10 engine\\nTransmission- 7-speed dual-clutch automatic\\n')\n",
    "\n",
    "car = LAMBO('Lamborghini Huracan', 'Nero Helene')\n",
    "\n",
    "car.basic_features()\n",
    "car.features()"
   ]
  },
  {
   "cell_type": "markdown",
   "id": "ea6b65f4-3d66-4d28-bb12-e309b8357122",
   "metadata": {},
   "source": [
    "95. Override a method in a subclass."
   ]
  },
  {
   "cell_type": "code",
   "execution_count": 189,
   "id": "dadd3827-aff8-4d62-a2a2-00a1ca4762fa",
   "metadata": {},
   "outputs": [
    {
     "name": "stdout",
     "output_type": "stream",
     "text": [
      "The dog barks.\n"
     ]
    }
   ],
   "source": [
    "class Animal:\n",
    "    def speak(self):\n",
    "        print(\"The animal makes a sound.\")\n",
    "\n",
    "class Dog(Animal):\n",
    "    def speak(self):  # This overrides Animal's speak()\n",
    "        print(\"The dog barks.\")\n",
    "\n",
    "# Create an object of Dog\n",
    "d = Dog()\n",
    "d.speak()"
   ]
  },
  {
   "cell_type": "markdown",
   "id": "92c249be-1675-4457-b9c1-1011057fb05a",
   "metadata": {},
   "source": [
    "96. Use super() to call the parent class method."
   ]
  },
  {
   "cell_type": "code",
   "execution_count": 191,
   "id": "48b13c00-3eef-4054-901c-83448d33947c",
   "metadata": {},
   "outputs": [
    {
     "name": "stdout",
     "output_type": "stream",
     "text": [
      "This is the Child class method.\n",
      "This is the Parent class method.\n"
     ]
    }
   ],
   "source": [
    "class Parent:\n",
    "    def show(self):\n",
    "        print(\"This is the Parent class method.\")\n",
    "\n",
    "class Child(Parent):\n",
    "    def show(self):\n",
    "        print(\"This is the Child class method.\")\n",
    "        super().show()  # Calling the Parent's show method\n",
    "\n",
    "# Create an object of Child class\n",
    "obj = Child()\n",
    "obj.show()\n"
   ]
  },
  {
   "cell_type": "markdown",
   "id": "274e61dc-e596-47ef-b881-31613191f88c",
   "metadata": {},
   "source": [
    "97. Implement a class with multiple inheritance."
   ]
  },
  {
   "cell_type": "code",
   "execution_count": 193,
   "id": "e94d10bf-9538-477f-9cc5-999c86b24f5e",
   "metadata": {},
   "outputs": [
    {
     "name": "stdout",
     "output_type": "stream",
     "text": [
      "This is class C.\n",
      "This is class A.\n",
      "This is class B.\n"
     ]
    }
   ],
   "source": [
    "class A:\n",
    "    def a(self):\n",
    "        print('This is class A.')\n",
    "\n",
    "class B:\n",
    "    def b(self):\n",
    "        print('This is class B.')\n",
    "\n",
    "class C(A, B):\n",
    "    def __init__(self):\n",
    "        print('This is class C.')\n",
    "\n",
    "\n",
    "obj = C()\n",
    "\n",
    "obj.a()\n",
    "obj.b()"
   ]
  },
  {
   "cell_type": "markdown",
   "id": "9181f688-b925-4478-b1da-93c5f0cb87e8",
   "metadata": {},
   "source": [
    "98. Create a class with a static method."
   ]
  },
  {
   "cell_type": "code",
   "execution_count": 195,
   "id": "b4c3d332-5e7d-4025-bece-07859c60ec15",
   "metadata": {},
   "outputs": [
    {
     "name": "stdout",
     "output_type": "stream",
     "text": [
      "Result: 8\n"
     ]
    }
   ],
   "source": [
    "class MathOperations:\n",
    "    @staticmethod\n",
    "    def add(a, b):\n",
    "        return a + b\n",
    "\n",
    "# You can call the static method without creating an object\n",
    "result = MathOperations.add(5, 3)\n",
    "print(f\"Result: {result}\")\n"
   ]
  },
  {
   "cell_type": "markdown",
   "id": "271892c9-7a27-4407-bc11-5357bdb3cf2f",
   "metadata": {},
   "source": [
    "99. Implement operator overloading in a class."
   ]
  },
  {
   "cell_type": "code",
   "execution_count": 197,
   "id": "e776723f-9db4-43fc-8fc0-821c20556971",
   "metadata": {},
   "outputs": [
    {
     "name": "stdout",
     "output_type": "stream",
     "text": [
      "Result: (6, 8)\n"
     ]
    }
   ],
   "source": [
    "class Point:\n",
    "    def __init__(self, x, y):\n",
    "        self.x = x\n",
    "        self.y = y\n",
    "\n",
    "    # Overload the '+' operator\n",
    "    def __add__(self, other):\n",
    "        return Point(self.x + other.x, self.y + other.y)\n",
    "\n",
    "    def __str__(self):\n",
    "        return f\"({self.x}, {self.y})\"\n",
    "\n",
    "# Create two Point objects\n",
    "p1 = Point(2, 3)\n",
    "p2 = Point(4, 5)\n",
    "\n",
    "# Add them using overloaded +\n",
    "p3 = p1 + p2\n",
    "\n",
    "print(\"Result:\", p3)"
   ]
  },
  {
   "cell_type": "markdown",
   "id": "b11f0434-2d56-4e14-85fd-e8683c86a165",
   "metadata": {},
   "source": [
    "100. Create a class with a class method and demonstrate its usage."
   ]
  },
  {
   "cell_type": "code",
   "execution_count": 199,
   "id": "6161d2fd-a463-4a50-bac0-5c99868ecbb9",
   "metadata": {},
   "outputs": [
    {
     "name": "stdout",
     "output_type": "stream",
     "text": [
      "Total students: 3\n",
      "Total students via instance: 3\n"
     ]
    }
   ],
   "source": [
    "class Student:\n",
    "    total_students = 0  # Class variable to keep track of student count\n",
    "\n",
    "    def __init__(self, name):\n",
    "        self.name = name\n",
    "        Student.total_students += 1\n",
    "\n",
    "    @classmethod\n",
    "    def get_total_students(cls):\n",
    "        \"\"\"Return the total number of Student instances created.\"\"\"\n",
    "        return cls.total_students\n",
    "\n",
    "# Creating instances of Student\n",
    "s1 = Student(\"Alice\")\n",
    "s2 = Student(\"Bob\")\n",
    "s3 = Student(\"Charlie\")\n",
    "\n",
    "# Calling the class method using the class name\n",
    "print(\"Total students:\", Student.get_total_students())\n",
    "\n",
    "# Alternatively, you can call a class method from an instance as well\n",
    "print(\"Total students via instance:\", s1.get_total_students())"
   ]
  }
 ],
 "metadata": {
  "kernelspec": {
   "display_name": "Python [conda env:base] *",
   "language": "python",
   "name": "conda-base-py"
  },
  "language_info": {
   "codemirror_mode": {
    "name": "ipython",
    "version": 3
   },
   "file_extension": ".py",
   "mimetype": "text/x-python",
   "name": "python",
   "nbconvert_exporter": "python",
   "pygments_lexer": "ipython3",
   "version": "3.12.7"
  }
 },
 "nbformat": 4,
 "nbformat_minor": 5
}
